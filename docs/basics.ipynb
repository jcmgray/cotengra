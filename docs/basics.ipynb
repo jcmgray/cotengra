{
 "cells": [
  {
   "cell_type": "markdown",
   "id": "9c8e1ba6-6b35-4dec-830e-686299698e2b",
   "metadata": {},
   "source": [
    "# Basics"
   ]
  },
  {
   "cell_type": "markdown",
   "id": "ebe10c20-484e-4299-bd2d-255724be621b",
   "metadata": {},
   "source": [
    "This page describes the basic ways to set up a contraction and an explicit optimizer and defines some common terms.\n",
    "The focus of `cotengra` is *exact contraction*. That is, taking a collection of tensors with indices described by a tensor network or einsum equation and then:\n",
    "\n",
    "1. finding the best sequence of pairwise contractions that reduces them to a single output tensor\n",
    "2. performing this contraction using a mix of `tensordot` and potentially `einsum` calls\n",
    "\n",
    "```{note}\n",
    "`cotengra` doesn't involve itself with building, modifying, simplifying or decomposing tensors and tensor networks etc.\n",
    "```\n",
    "\n",
    "The minimal information you need to describe such a contraction is:\n",
    "\n",
    "* the index labels for each tensor\n",
    "* the output index labels\n",
    "* the size of each index\n",
    "\n",
    "Here's a very small example of such information involving 4 tensors:"
   ]
  },
  {
   "cell_type": "code",
   "execution_count": 1,
   "id": "bafad29a-5ba0-471a-a3e9-5e91847fe02c",
   "metadata": {},
   "outputs": [],
   "source": [
    "%config InlineBackend.figure_formats = ['svg']\n",
    "import cotengra as ctg\n",
    "\n",
    "inputs = [\n",
    "    (\"a\", \"b\", \"x\"),\n",
    "    (\"b\", \"c\", \"d\"),\n",
    "    (\"c\", \"e\", \"y\"),\n",
    "    (\"e\", \"a\", \"d\"),\n",
    "]\n",
    "\n",
    "output = (\"x\", \"y\")\n",
    "\n",
    "size_dict = {\"x\": 2, \"y\": 3, \"a\": 4, \"b\": 5, \"c\": 6, \"d\": 7, \"e\": 8}"
   ]
  },
  {
   "cell_type": "markdown",
   "id": "878b0d5b-1daa-4644-add0-e38bc2a8873f",
   "metadata": {},
   "source": [
    "This is equivalent to describing an einsum equation and array shapes (such as for `numpy.einsum` or `opt_einsum.contract`):"
   ]
  },
  {
   "cell_type": "code",
   "execution_count": 2,
   "id": "e0b47b06-0a19-494c-b639-6104daf8d309",
   "metadata": {},
   "outputs": [],
   "source": [
    "import numpy as np\n",
    "\n",
    "eq = \"abx,bcd,cey,ead->xy\"\n",
    "shapes = [(4, 5, 2), (5, 6, 7), (6, 8, 3), (8, 4, 7)]\n",
    "arrays = [np.ones(s) for s in shapes]"
   ]
  },
  {
   "cell_type": "markdown",
   "id": "904673db-bf08-4abc-ae47-84776ea8565e",
   "metadata": {},
   "source": [
    "The actual names of indices here are only relevant for defining the *geometry*\n",
    "within this contraction.\n",
    "\n",
    "```{note}\n",
    "For readability, generally a single unicode character is used per index.\n",
    "See `ctg.get_symbol(i)` if you need to generate a usable set of these.\n",
    "```\n",
    "\n",
    "Each index can be thought of as an ***edge*** in a tensor network,\n",
    "with each tensor being a ***node***. If every index appears exactly twice in either\n",
    "the inputs or output, then the underlying geometry is described as a\n",
    "[***graph***](https://en.wikipedia.org/wiki/Graph_(discrete_mathematics)),\n",
    "otherwise it is a [***hypergraph***](https://en.wikipedia.org/wiki/Hypergraph).\n",
    "You can visualize an input contraction with:"
   ]
  },
  {
   "cell_type": "code",
   "execution_count": 3,
   "id": "1bb0f0ef-00ba-46dd-b845-1166f45caa31",
   "metadata": {},
   "outputs": [
    {
     "data": {
      "image/svg+xml": [
       "<?xml version=\"1.0\" encoding=\"UTF-8\"?><!DOCTYPE svg  PUBLIC '-//W3C//DTD SVG 1.1//EN'  'http://www.w3.org/Graphics/SVG/1.1/DTD/svg11.dtd'><svg width=\"293.4pt\" height=\"109.22pt\" version=\"1.1\" viewBox=\"0 0 293.4 109.22\" xmlns=\"http://www.w3.org/2000/svg\" xmlns:xlink=\"http://www.w3.org/1999/xlink\"><defs><style type=\"text/css\">*{stroke-linejoin: round; stroke-linecap: butt}</style></defs><path d=\"m0 109.22h293.4v-109.22h-293.4v109.22z\" fill=\"none\"/><path d=\"m83.394 39.245 103.37-17.276\" clip-path=\"url(#1d539e8a4fa)\" fill=\"none\" stroke=\"#7aacd4\" stroke-linecap=\"round\" stroke-width=\"2\"/><g transform=\"translate(133.07 33.202) rotate(-9.4878) scale(.08 -.08)\" fill=\"#808080\"><defs><path id=\"DejaVuSansMono-61\" transform=\"scale(.015625)\" d=\"m2194 1759h-191q-503 0-758-177-254-176-254-526 0-315 190-490 191-175 528-175 475 0 747 329 272 330 275 911v128h-537zm1115 238v-1997h-578v519q-184-313-464-462-279-148-679-148-535 0-854 302-318 302-318 808 0 584 392 887t1151 303h772v91q-3 419-213 608-209 189-668 189-294 0-594-85-300-84-584-246v575q319 122 611 182 292 61 567 61 434 0 742-128t499-384q118-156 168-386t50-689z\"/></defs><use xlink:href=\"#DejaVuSansMono-61\"/></g><path d=\"m83.394 39.245 17.695 52.413\" clip-path=\"url(#1d539e8a4fa)\" fill=\"none\" stroke=\"#b9e292\" stroke-linecap=\"round\" stroke-width=\"2.3219\"/><g transform=\"translate(89.36 63.883) rotate(71.345) scale(.08 -.08)\" fill=\"#808080\"><defs><path id=\"DejaVuSansMono-62\" transform=\"scale(.015625)\" d=\"m2869 1747q0 669-213 1009-212 341-628 341-419 0-635-342-215-342-215-1008 0-663 215-1007 216-343 635-343 416 0 628 340 213 341 213 1010zm-1691 1306q138 256 380 393 242 138 561 138 631 0 993-486 363-485 363-1339 0-865-364-1358-364-492-998-492-313 0-552 136t-383 396v-441h-575v4863h575v-1810z\"/></defs><use xlink:href=\"#DejaVuSansMono-62\"/></g><path d=\"m83.394 39.245-64.029-21.685\" clip-path=\"url(#1d539e8a4fa)\" fill=\"none\" stroke=\"#d3826d\" stroke-linecap=\"round\"/><path d=\"m186.77 21.969-85.679 69.689\" clip-path=\"url(#1d539e8a4fa)\" fill=\"none\" stroke=\"#4ee480\" stroke-linecap=\"round\" stroke-width=\"2.8074\"/><g transform=\"translate(143.47 60.062) rotate(-39.124) scale(.08 -.08)\" fill=\"#808080\"><defs><path id=\"DejaVuSansMono-64\" transform=\"scale(.015625)\" d=\"m2681 3053v1810h575v-4863h-575v441q-143-260-383-396-239-136-551-136-634 0-999 492-364 493-364 1358 0 854 366 1339 366 486 997 486 316 0 556-136 241-135 378-395zm-1690-1306q0-669 212-1010 213-340 628-340 416 0 633 343 217 344 217 1007 0 666-217 1008t-633 342q-415 0-628-341-212-340-212-1009z\"/></defs><use xlink:href=\"#DejaVuSansMono-64\"/></g><path d=\"m186.77 21.969 17.609 52.476\" clip-path=\"url(#1d539e8a4fa)\" fill=\"none\" stroke=\"#3ddfb7\" stroke-linecap=\"round\" stroke-width=\"3\"/><g transform=\"translate(192.69 46.633) rotate(71.45) scale(.08 -.08)\" fill=\"#808080\"><defs><path id=\"DejaVuSansMono-65\" transform=\"scale(.015625)\" d=\"m3475 1894v-281h-2491v-19q0-572 298-885 299-312 843-312 275 0 575 87 300 88 641 266v-572q-328-134-633-201-305-68-589-68-816 0-1276 489-459 490-459 1349 0 837 450 1337t1200 500q669 0 1055-453t386-1237zm-575 169q-12 506-239 770t-652 264q-415 0-684-275t-319-763l1894 4z\"/></defs><use xlink:href=\"#DejaVuSansMono-65\"/></g><path d=\"m101.09 91.658 103.29-17.213\" clip-path=\"url(#1d539e8a4fa)\" fill=\"none\" stroke=\"#5db6d5\" stroke-linecap=\"round\" stroke-width=\"2.585\"/><g transform=\"translate(150.72 85.645) rotate(-9.4615) scale(.08 -.08)\" fill=\"#808080\"><defs><path id=\"DejaVuSansMono-63\" transform=\"scale(.015625)\" d=\"m3316 178q-232-134-477-201-245-68-501-68-813 0-1271 487-458 488-458 1351 0 862 458 1349 458 488 1271 488 253 0 493-66 241-65 485-202v-603q-228 203-458 293-230 91-520 91-541 0-832-350-290-350-290-1e3 0-647 292-999 292-351 830-351 300 0 537 92 238 92 441 286v-597z\"/></defs><use xlink:href=\"#DejaVuSansMono-63\"/></g><path d=\"m204.38 74.444 69.657 17.103\" clip-path=\"url(#1d539e8a4fa)\" fill=\"none\" stroke=\"#5483e2\" stroke-linecap=\"round\" stroke-width=\"1.585\"/><path d=\"m83.394 47.818c2.2736 0 4.4543-0.90329 6.0619-2.5109 1.6076-1.6076 2.5109-3.7884 2.5109-6.0619s-0.90329-4.4543-2.5109-6.0619c-1.6076-1.6076-3.7884-2.5109-6.0619-2.5109-2.2736 0-4.4543 0.90329-6.0619 2.5109-1.6076 1.6076-2.5109 3.7884-2.5109 6.0619s0.90329 4.4543 2.5109 6.0619c1.6076 1.6076 3.7884 2.5109 6.0619 2.5109z\" clip-path=\"url(#1d539e8a4fa)\" fill=\"#0072b2\" stroke=\"#004c77\"/><path d=\"m186.77 30.541c2.2736 0 4.4543-0.90329 6.0619-2.5109 1.6076-1.6076 2.5109-3.7884 2.5109-6.0619 0-2.2736-0.90329-4.4543-2.5109-6.0619-1.6076-1.6076-3.7884-2.5109-6.0619-2.5109-2.2736 0-4.4543 0.90329-6.0619 2.5109-1.6076 1.6076-2.5109 3.7884-2.5109 6.0619 0 2.2736 0.90329 4.4543 2.5109 6.0619s3.7884 2.5109 6.0619 2.5109z\" clip-path=\"url(#1d539e8a4fa)\" fill=\"#cc79a7\" stroke=\"#88516f\"/><path d=\"m101.09 100.23c2.2736 0 4.4543-0.90329 6.0619-2.5109s2.5109-3.7884 2.5109-6.0619c0-2.2736-0.90329-4.4543-2.5109-6.0619-1.6076-1.6076-3.7884-2.5109-6.0619-2.5109-2.2736 0-4.4543 0.90329-6.0619 2.5109-1.6076 1.6076-2.5109 3.7884-2.5109 6.0619 0 2.2736 0.90329 4.4543 2.5109 6.0619 1.6076 1.6076 3.7884 2.5109 6.0619 2.5109z\" clip-path=\"url(#1d539e8a4fa)\" fill=\"#009e73\" stroke=\"#00694d\"/><path d=\"m19.365 26.133c2.2736 0 4.4543-0.90329 6.0619-2.5109s2.5109-3.7884 2.5109-6.0619c0-2.2736-0.90329-4.4543-2.5109-6.0619s-3.7884-2.5109-6.0619-2.5109c-2.2736 0-4.4543 0.90329-6.0619 2.5109-1.6076 1.6076-2.5109 3.7884-2.5109 6.0619 0 2.2736 0.90329 4.4543 2.5109 6.0619 1.6076 1.6076 3.7884 2.5109 6.0619 2.5109z\" clip-path=\"url(#1d539e8a4fa)\" fill=\"none\"/><path d=\"m204.38 83.017c2.2736 0 4.4543-0.90329 6.0619-2.5109 1.6076-1.6076 2.5109-3.7884 2.5109-6.0619 0-2.2736-0.90329-4.4543-2.5109-6.0619-1.6076-1.6076-3.7884-2.5109-6.0619-2.5109-2.2736 0-4.4543 0.90329-6.0619 2.5109s-2.5109 3.7884-2.5109 6.0619c0 2.2736 0.90329 4.4543 2.5109 6.0619 1.6076 1.6076 3.7884 2.5109 6.0619 2.5109z\" clip-path=\"url(#1d539e8a4fa)\" fill=\"#e69f00\" stroke=\"#996a00\"/><path d=\"m274.03 100.12c2.2736 0 4.4543-0.90329 6.0619-2.5109 1.6076-1.6076 2.5109-3.7884 2.5109-6.0619 0-2.2736-0.90329-4.4543-2.5109-6.0619-1.6076-1.6076-3.7884-2.5109-6.0619-2.5109-2.2736 0-4.4543 0.90329-6.0619 2.5109s-2.5109 3.7884-2.5109 6.0619c0 2.2736 0.90329 4.4543 2.5109 6.0619 1.6076 1.6076 3.7884 2.5109 6.0619 2.5109z\" clip-path=\"url(#1d539e8a4fa)\" fill=\"none\"/><g transform=\"translate(80.384 42.031) scale(.1 -.1)\" fill=\"#808080\"><defs><path id=\"DejaVuSansMono-30\" transform=\"scale(.015625)\" d=\"m1509 2344q0 172 120 297 121 125 290 125 175 0 300-125t125-297q0-175-124-297-123-122-301-122-175 0-293 119-117 119-117 300zm416 1906q-441 0-658-475t-217-1447q0-969 217-1444t658-475q444 0 661 475t217 1444q0 972-217 1447t-661 475zm0 500q747 0 1130-613 383-612 383-1809 0-1194-383-1807-383-612-1130-612t-1128 612q-381 613-381 1807 0 1197 381 1809 381 613 1128 613z\"/></defs><use xlink:href=\"#DejaVuSansMono-30\"/></g><g transform=\"translate(183.76 24.755) scale(.1 -.1)\" fill=\"#808080\"><defs><path id=\"DejaVuSansMono-33\" transform=\"scale(.015625)\" d=\"m2425 2497q459-122 703-433t244-776q0-644-433-1012-433-367-1198-367-322 0-657 60-334 59-656 172v628q319-166 628-247 310-81 616-81 519 0 797 234t278 675q0 406-278 645t-753 239h-482v519h482q434 0 678 190 244 191 244 532 0 359-227 551-227 193-645 193-278 0-575-63-297-62-622-187v581q378 100 673 150 296 50 524 50 681 0 1089-342t408-908q0-384-215-641-214-256-623-362z\"/></defs><use xlink:href=\"#DejaVuSansMono-33\"/></g><g transform=\"translate(98.079 94.444) scale(.1 -.1)\" fill=\"#808080\"><defs><path id=\"DejaVuSansMono-31\" transform=\"scale(.015625)\" d=\"m844 531h981v3566l-1056-238v575l1050 232h631v-4135h969v-531h-2575v531z\"/></defs><use xlink:href=\"#DejaVuSansMono-31\"/></g><g transform=\"translate(16.355 20.346) scale(.1 -.1)\" fill=\"#808080\"><defs><path id=\"DejaVuSansMono-78\" transform=\"scale(.015625)\" d=\"m3494 3500-1253-1675 1375-1825h-666l-1025 1403-1022-1403h-665l1375 1825-1254 1675h638l928-1266 922 1266h647z\"/></defs><use xlink:href=\"#DejaVuSansMono-78\"/></g><g transform=\"translate(201.37 77.23) scale(.1 -.1)\" fill=\"#808080\"><defs><path id=\"DejaVuSansMono-32\" transform=\"scale(.015625)\" d=\"m1166 531h2143v-531h-2834v531q584 616 1021 1088 438 472 604 665 313 382 422 618t109 482q0 391-230 613-229 222-629 222-284 0-597-103-312-103-662-313v638q321 153 632 231t614 78q685 0 1102-364t417-955q0-300-139-600t-451-662q-175-203-508-563-333-359-1014-1075z\"/></defs><use xlink:href=\"#DejaVuSansMono-32\"/></g><g transform=\"translate(271.02 94.334) scale(.1 -.1)\" fill=\"#808080\"><defs><path id=\"DejaVuSansMono-79\" transform=\"scale(.015625)\" d=\"m2681 1125q-143-366-365-962-310-826-416-1007-144-244-360-365-215-122-502-122h-463v481h341q253 0 396 147 144 147 366 759l-1353 3444h609l1038-2737 1022 2737h609l-922-2375z\"/></defs><use xlink:href=\"#DejaVuSansMono-79\"/></g><defs><clipPath id=\"1d539e8a4fa\"><rect x=\"7.2\" y=\"7.2\" width=\"279\" height=\"94.817\"/></clipPath></defs></svg>"
      ],
      "text/plain": [
       "<Figure size 500x500 with 1 Axes>"
      ]
     },
     "metadata": {
      "needs_background": "light"
     },
     "output_type": "display_data"
    },
    {
     "data": {
      "text/plain": [
       "(<Figure size 500x500 with 1 Axes>, <Axes: >)"
      ]
     },
     "execution_count": 3,
     "metadata": {},
     "output_type": "execute_result"
    }
   ],
   "source": [
    "ctg.HyperGraph(inputs, output, size_dict).plot()"
   ]
  },
  {
   "cell_type": "markdown",
   "id": "748b5ef2-02a0-4397-94be-80d0359b7b56",
   "metadata": {},
   "source": [
    "Usually one of these representations is very easy to produce, or a library like `quimb` will do it for you. In any case, the next step is to create an *optimizer*."
   ]
  },
  {
   "cell_type": "markdown",
   "id": "d5ec1d35-8e66-4444-8adc-abec97400b61",
   "metadata": {},
   "source": [
    "## `HyperOptimizer`\n",
    "\n",
    "The main driver is the [`HyperOptimizer`](cotengra.hyper.HyperOptimizer) class, which optimizes a single contraction:"
   ]
  },
  {
   "cell_type": "code",
   "execution_count": 4,
   "id": "0fcf5b6b-fe3a-44ac-ab41-9efb6dd9e02a",
   "metadata": {},
   "outputs": [],
   "source": [
    "opt = ctg.HyperOptimizer()"
   ]
  },
  {
   "cell_type": "markdown",
   "id": "4c45918f-b2ae-4285-a69d-7f2ce1137845",
   "metadata": {},
   "source": [
    "The most flexible way to use this is to call the [`search`](cotengra.hyper.HyperOptimizer.search) method which directly returns a\n",
    "[`ContractionTree`](cotengra.core.ContractionTree). This is a ***rooted\n",
    "binary tree***:"
   ]
  },
  {
   "cell_type": "code",
   "execution_count": 5,
   "id": "e586ea8d-5da3-43d6-9685-8a2f08b6a1a3",
   "metadata": {},
   "outputs": [
    {
     "data": {
      "text/plain": [
       "<ContractionTree(N=4)>"
      ]
     },
     "execution_count": 5,
     "metadata": {},
     "output_type": "execute_result"
    }
   ],
   "source": [
    "# direct use\n",
    "tree = opt.search(inputs, output, size_dict)\n",
    "tree"
   ]
  },
  {
   "cell_type": "code",
   "execution_count": 6,
   "id": "947587ee",
   "metadata": {},
   "outputs": [
    {
     "data": {
      "image/svg+xml": [
       "<?xml version=\"1.0\" encoding=\"UTF-8\"?><!DOCTYPE svg  PUBLIC '-//W3C//DTD SVG 1.1//EN'  'http://www.w3.org/Graphics/SVG/1.1/DTD/svg11.dtd'><svg width=\"198.55pt\" height=\"240.28pt\" version=\"1.1\" viewBox=\"0 0 198.55 240.28\" xmlns=\"http://www.w3.org/2000/svg\" xmlns:xlink=\"http://www.w3.org/1999/xlink\"><defs><style type=\"text/css\">*{stroke-linejoin: round; stroke-linecap: butt}</style></defs><path d=\"m0 240.28h198.55v-240.28h-198.55v240.28z\" fill=\"none\"/><path d=\"m22.991 216.92q10.631-6.3361 13.18-9.3026c2.2463-2.6139 4.7678-9.5356 6.3571-12.714 1.5893-3.1785 5.6138-9.3488 6.3571-12.714q0.84357-3.8194-0.46605-16.126\" clip-path=\"url(#5ee487035fc)\" fill=\"none\" stroke=\"#d3826d\" stroke-linecap=\"round\"/><g transform=\"translate(46.394 190.91) rotate(-63.435) scale(.06 -.06)\" fill=\"#808080\"><defs><path id=\"DejaVuSansMono-78\" transform=\"scale(.015625)\" d=\"m3494 3500-1253-1675 1375-1825h-666l-1025 1403-1022-1403h-665l1375 1825-1254 1675h638l928-1266 922 1266h647z\"/></defs><use xlink:href=\"#DejaVuSansMono-78\"/></g><path d=\"m22.991 216.92q4.7678-9.5356 6.3571-12.714c1.5893-3.1785 4.7678-9.5356 6.3571-12.714 1.5893-3.1785 4.7678-9.5356 6.3571-12.714q1.5893-3.1785 6.3571-12.714\" clip-path=\"url(#5ee487035fc)\" fill=\"none\" stroke=\"#b9e292\" stroke-linecap=\"round\" stroke-width=\"2.3219\"/><g transform=\"translate(36.392 193.86) rotate(-63.435) scale(.06 -.06)\" fill=\"#808080\"><defs><path id=\"DejaVuSansMono-62\" transform=\"scale(.015625)\" d=\"m2869 1747q0 669-213 1009-212 341-628 341-419 0-635-342-215-342-215-1008 0-663 215-1007 216-343 635-343 416 0 628 340 213 341 213 1010zm-1691 1306q138 256 380 393 242 138 561 138 631 0 993-486 363-485 363-1339 0-865-364-1358-364-492-998-492-313 0-552 136t-383 396v-441h-575v4863h575v-1810z\"/></defs><use xlink:href=\"#DejaVuSansMono-62\"/></g><path d=\"m22.991 216.92q-1.3096-12.306-0.46605-16.126c0.7433-3.3654 4.7678-9.5356 6.3571-12.714 1.5893-3.1785 4.1107-10.1 6.3571-12.714q2.5494-2.9665 13.18-9.3026\" clip-path=\"url(#5ee487035fc)\" fill=\"none\" stroke=\"#7aacd4\" stroke-linecap=\"round\" stroke-width=\"2\"/><g transform=\"translate(26.391 196.8) rotate(-63.435) scale(.06 -.06)\" fill=\"#808080\"><defs><path id=\"DejaVuSansMono-61\" transform=\"scale(.015625)\" d=\"m2194 1759h-191q-503 0-758-177-254-176-254-526 0-315 190-490 191-175 528-175 475 0 747 329 272 330 275 911v128h-537zm1115 238v-1997h-578v519q-184-313-464-462-279-148-679-148-535 0-854 302-318 302-318 808 0 584 392 887t1151 303h772v91q-3 419-213 608-209 189-668 189-294 0-594-85-300-84-584-246v575q319 122 611 182 292 61 567 61 434 0 742-128t499-384q118-156 168-386t50-689z\"/></defs><use xlink:href=\"#DejaVuSansMono-61\"/></g><path d=\"m73.848 216.92q1.3096-12.306 0.46605-16.126c-0.7433-3.3654-4.7678-9.5356-6.3571-12.714-1.5893-3.1785-4.1107-10.1-6.3571-12.714q-2.5494-2.9665-13.18-9.3026\" clip-path=\"url(#5ee487035fc)\" fill=\"none\" stroke=\"#b9e292\" stroke-linecap=\"round\" stroke-width=\"2.3219\"/><g transform=\"translate(62.475 180.86) rotate(63.435) scale(.06 -.06)\" fill=\"#808080\"><use xlink:href=\"#DejaVuSansMono-62\"/></g><path d=\"m73.848 216.92q-4.7678-9.5356-6.3571-12.714c-1.5893-3.1785-4.7678-9.5356-6.3571-12.714-1.5893-3.1785-4.7678-9.5356-6.3571-12.714q-1.5893-3.1785-6.3571-12.714\" clip-path=\"url(#5ee487035fc)\" fill=\"none\" stroke=\"#5db6d5\" stroke-linecap=\"round\" stroke-width=\"2.585\"/><g transform=\"translate(58.831 190.63) rotate(63.435) scale(.06 -.06)\" fill=\"#808080\"><defs><path id=\"DejaVuSansMono-63\" transform=\"scale(.015625)\" d=\"m3316 178q-232-134-477-201-245-68-501-68-813 0-1271 487-458 488-458 1351 0 862 458 1349 458 488 1271 488 253 0 493-66 241-65 485-202v-603q-228 203-458 293-230 91-520 91-541 0-832-350-290-350-290-1e3 0-647 292-999 292-351 830-351 300 0 537 92 238 92 441 286v-597z\"/></defs><use xlink:href=\"#DejaVuSansMono-63\"/></g><path d=\"m73.848 216.92q-10.631-6.3361-13.18-9.3026c-2.2463-2.6139-4.7678-9.5356-6.3571-12.714s-5.6138-9.3488-6.3571-12.714q-0.84357-3.8194 0.46605-16.126\" clip-path=\"url(#5ee487035fc)\" fill=\"none\" stroke=\"#4ee480\" stroke-linecap=\"round\" stroke-width=\"2.8074\"/><g transform=\"translate(55.186 200.4) rotate(63.435) scale(.06 -.06)\" fill=\"#808080\"><defs><path id=\"DejaVuSansMono-64\" transform=\"scale(.015625)\" d=\"m2681 3053v1810h575v-4863h-575v441q-143-260-383-396-239-136-551-136-634 0-999 492-364 493-364 1358 0 854 366 1339 366 486 997 486 316 0 556-136 241-135 378-395zm-1690-1306q0-669 212-1010 213-340 628-340 416 0 633 343 217 344 217 1007 0 666-217 1008t-633 342q-415 0-628-341-212-340-212-1009z\"/></defs><use xlink:href=\"#DejaVuSansMono-64\"/></g><path d=\"m48.419 166.07q14.048-3.898 17.673-6.6114c3.0526-2.2853 7.1517-9.5356 9.5356-12.714s8.1964-9.1438 9.5356-12.714q1.59-4.239 1.3986-18.817\" clip-path=\"url(#5ee487035fc)\" fill=\"none\" stroke=\"#d3826d\" stroke-linecap=\"round\"/><g transform=\"translate(80.649 142.83) rotate(-53.13) scale(.06 -.06)\" fill=\"#808080\"><use xlink:href=\"#DejaVuSansMono-78\"/></g><path d=\"m48.419 166.07q9.4982-7.7199 12.248-10.68c2.6893-2.8949 7.1517-9.5356 9.5356-12.714 2.3839-3.1785 7.5095-9.3219 9.5356-12.714q2.0717-3.4686 6.8233-14.748\" clip-path=\"url(#5ee487035fc)\" fill=\"none\" stroke=\"#4ee480\" stroke-linecap=\"round\" stroke-width=\"2.8074\"/><g transform=\"translate(72.046 143) rotate(-53.13) scale(.06 -.06)\" fill=\"#808080\"><use xlink:href=\"#DejaVuSansMono-64\"/></g><path d=\"m48.419 166.07q4.7516-11.28 6.8233-14.748c2.0261-3.3922 7.1517-9.5356 9.5356-12.714 2.3839-3.1785 6.8464-9.8193 9.5356-12.714q2.7498-2.96 12.248-10.68\" clip-path=\"url(#5ee487035fc)\" fill=\"none\" stroke=\"#5db6d5\" stroke-linecap=\"round\" stroke-width=\"2.585\"/><g transform=\"translate(63.442 143.17) rotate(-53.13) scale(.06 -.06)\" fill=\"#808080\"><use xlink:href=\"#DejaVuSansMono-63\"/></g><path d=\"m48.419 166.07q-0.19143-14.578 1.3986-18.817c1.3392-3.5704 7.1517-9.5356 9.5356-12.714 2.3839-3.1785 6.483-10.429 9.5356-12.714q3.6242-2.7133 17.673-6.6114\" clip-path=\"url(#5ee487035fc)\" fill=\"none\" stroke=\"#7aacd4\" stroke-linecap=\"round\" stroke-width=\"2\"/><g transform=\"translate(54.839 143.34) rotate(-53.13) scale(.06 -.06)\" fill=\"#808080\"><use xlink:href=\"#DejaVuSansMono-61\"/></g><path d=\"m124.7 166.07q-1.6816-13.367-3.4328-17.291c-1.5788-3.5378-7.1517-9.5356-9.5356-12.714-2.3839-3.1785-6.5814-10.208-9.5356-12.714q-3.277-2.78-15.638-8.137\" clip-path=\"url(#5ee487035fc)\" fill=\"none\" stroke=\"#7aacd4\" stroke-linecap=\"round\" stroke-width=\"2\"/><g transform=\"translate(104.55 129.26) rotate(53.13) scale(.06 -.06)\" fill=\"#808080\"><use xlink:href=\"#DejaVuSansMono-61\"/></g><path d=\"m124.7 166.07q-7.1517-9.5356-9.5356-12.714c-2.3839-3.1785-7.1517-9.5356-9.5356-12.714-2.3839-3.1785-7.1517-9.5356-9.5356-12.714q-2.3839-3.1785-9.5356-12.714\" clip-path=\"url(#5ee487035fc)\" fill=\"none\" stroke=\"#4ee480\" stroke-linecap=\"round\" stroke-width=\"2.8074\"/><g transform=\"translate(103.21 140.2) rotate(53.13) scale(.06 -.06)\" fill=\"#808080\"><use xlink:href=\"#DejaVuSansMono-64\"/></g><path d=\"m124.7 166.07q-12.361-5.357-15.638-8.137c-2.9542-2.5062-7.1517-9.5356-9.5356-12.714-2.3839-3.1785-7.9568-9.1763-9.5356-12.714q-1.7513-3.9243-3.4328-17.291\" clip-path=\"url(#5ee487035fc)\" fill=\"none\" stroke=\"#3ddfb7\" stroke-linecap=\"round\" stroke-width=\"3\"/><g transform=\"translate(101.88 151.13) rotate(53.13) scale(.06 -.06)\" fill=\"#808080\"><defs><path id=\"DejaVuSansMono-65\" transform=\"scale(.015625)\" d=\"m3475 1894v-281h-2491v-19q0-572 298-885 299-312 843-312 275 0 575 87 300 88 641 266v-572q-328-134-633-201-305-68-589-68-816 0-1276 489-459 490-459 1349 0 837 450 1337t1200 500q669 0 1055-453t386-1237zm-575 169q-12 506-239 770t-652 264q-415 0-684-275t-319-763l1894 4z\"/></defs><use xlink:href=\"#DejaVuSansMono-65\"/></g><path d=\"m86.562 115.21q13.232-4.9856 16.866-7.6907c3.312-2.4654 8.3437-9.5356 11.125-12.714 2.7812-3.1785 9.1209-9.1041 11.125-12.714q2.1988-3.961 5.3839-17.738\" clip-path=\"url(#5ee487035fc)\" fill=\"none\" stroke=\"#d3826d\" stroke-linecap=\"round\"/><g transform=\"translate(120.18 90.909) rotate(-48.814) scale(.06 -.06)\" fill=\"#808080\"><use xlink:href=\"#DejaVuSansMono-78\"/></g><path d=\"m86.562 115.21q8.3437-9.5356 11.125-12.714c2.7812-3.1785 8.3437-9.5356 11.125-12.714 2.7812-3.1785 8.3437-9.5356 11.125-12.714q2.7812-3.1785 11.125-12.714\" clip-path=\"url(#5ee487035fc)\" fill=\"none\" stroke=\"#3ddfb7\" stroke-linecap=\"round\" stroke-width=\"3\"/><g transform=\"translate(108.88 92.243) rotate(-48.814) scale(.06 -.06)\" fill=\"#808080\"><use xlink:href=\"#DejaVuSansMono-65\"/></g><path d=\"m86.562 115.21q3.1851-13.777 5.3839-17.738c2.004-3.61 8.3437-9.5356 11.125-12.714 2.7812-3.1785 7.8128-10.249 11.125-12.714q3.634-2.7051 16.866-7.6907\" clip-path=\"url(#5ee487035fc)\" fill=\"none\" stroke=\"#5db6d5\" stroke-linecap=\"round\" stroke-width=\"2.585\"/><g transform=\"translate(97.577 93.576) rotate(-48.814) scale(.06 -.06)\" fill=\"#808080\"><use xlink:href=\"#DejaVuSansMono-63\"/></g><path d=\"m175.56 115.21q-3.1851-13.777-5.3839-17.738c-2.004-3.61-8.3437-9.5356-11.125-12.714-2.7812-3.1785-7.8128-10.249-11.125-12.714q-3.634-2.7051-16.866-7.6907\" clip-path=\"url(#5ee487035fc)\" fill=\"none\" stroke=\"#5db6d5\" stroke-linecap=\"round\" stroke-width=\"2.585\"/><g transform=\"translate(151.04 78.144) rotate(48.814) scale(.06 -.06)\" fill=\"#808080\"><use xlink:href=\"#DejaVuSansMono-63\"/></g><path d=\"m175.56 115.21q-8.3437-9.5356-11.125-12.714c-2.7812-3.1785-8.3437-9.5356-11.125-12.714-2.7812-3.1785-8.3437-9.5356-11.125-12.714q-2.7812-3.1785-11.125-12.714\" clip-path=\"url(#5ee487035fc)\" fill=\"none\" stroke=\"#3ddfb7\" stroke-linecap=\"round\" stroke-width=\"3\"/><g transform=\"translate(150.86 89.524) rotate(48.814) scale(.06 -.06)\" fill=\"#808080\"><use xlink:href=\"#DejaVuSansMono-65\"/></g><path d=\"m175.56 115.21q-13.232-4.9856-16.866-7.6907c-3.312-2.4654-8.3437-9.5356-11.125-12.714-2.7812-3.1785-9.1209-9.1041-11.125-12.714q-2.1988-3.961-5.3839-17.738\" clip-path=\"url(#5ee487035fc)\" fill=\"none\" stroke=\"#5483e2\" stroke-linecap=\"round\" stroke-width=\"1.585\"/><g transform=\"translate(150.68 100.9) rotate(48.814) scale(.06 -.06)\" fill=\"#808080\"><defs><path id=\"DejaVuSansMono-79\" transform=\"scale(.015625)\" d=\"m2681 1125q-143-366-365-962-310-826-416-1007-144-244-360-365-215-122-502-122h-463v481h341q253 0 396 147 144 147 366 759l-1353 3444h609l1038-2737 1022 2737h609l-922-2375z\"/></defs><use xlink:href=\"#DejaVuSansMono-79\"/></g><path d=\"m131.06 64.354q-4.4499-19.008-5.0857-25.428-0.62336-6.2953 0-25.428\" clip-path=\"url(#5ee487035fc)\" fill=\"none\" stroke=\"#d3826d\" stroke-linecap=\"round\"/><path d=\"m131.06 64.354q4.4499-19.008 5.0857-25.428 0.62336-6.2953 0-25.428\" clip-path=\"url(#5ee487035fc)\" fill=\"none\" stroke=\"#5483e2\" stroke-linecap=\"round\" stroke-width=\"1.585\"/><path d=\"m22.991 229.64c3.3718 0 6.606-1.3396 8.9903-3.7239s3.7239-5.6184 3.7239-8.9903-1.3396-6.606-3.7239-8.9903-5.6184-3.7239-8.9903-3.7239-6.606 1.3396-8.9903 3.7239-3.7239 5.6184-3.7239 8.9903 1.3396 6.606 3.7239 8.9903 5.6184 3.7239 8.9903 3.7239z\" clip-path=\"url(#5ee487035fc)\" fill=\"#0072b2\" stroke=\"#004c77\"/><path d=\"m73.848 229.64c3.3718 0 6.606-1.3396 8.9903-3.7239s3.7239-5.6184 3.7239-8.9903-1.3396-6.606-3.7239-8.9903-5.6184-3.7239-8.9903-3.7239-6.606 1.3396-8.9903 3.7239c-2.3842 2.3842-3.7239 5.6184-3.7239 8.9903s1.3396 6.606 3.7239 8.9903c2.3842 2.3842 5.6184 3.7239 8.9903 3.7239z\" clip-path=\"url(#5ee487035fc)\" fill=\"#009e73\" stroke=\"#00694d\"/><path d=\"m48.419 178.78c3.3718 0 6.606-1.3396 8.9903-3.7239s3.7239-5.6184 3.7239-8.9903-1.3396-6.606-3.7239-8.9903-5.6184-3.7239-8.9903-3.7239-6.606 1.3396-8.9903 3.7239-3.7239 5.6184-3.7239 8.9903 1.3396 6.606 3.7239 8.9903 5.6184 3.7239 8.9903 3.7239z\" clip-path=\"url(#5ee487035fc)\" fill=\"#808080\" fill-opacity=\".5\" stroke=\"#555555\" stroke-opacity=\".5\"/><path d=\"m124.7 178.78c3.3718 0 6.606-1.3396 8.9903-3.7239 2.3842-2.3842 3.7239-5.6184 3.7239-8.9903s-1.3396-6.606-3.7239-8.9903c-2.3842-2.3842-5.6184-3.7239-8.9903-3.7239s-6.606 1.3396-8.9903 3.7239-3.7239 5.6184-3.7239 8.9903 1.3396 6.606 3.7239 8.9903 5.6184 3.7239 8.9903 3.7239z\" clip-path=\"url(#5ee487035fc)\" fill=\"#cc79a7\" stroke=\"#88516f\"/><path d=\"m86.562 127.93c3.3718 0 6.606-1.3396 8.9903-3.7239 2.3842-2.3842 3.7239-5.6184 3.7239-8.9903s-1.3396-6.606-3.7239-8.9903-5.6184-3.7239-8.9903-3.7239-6.606 1.3396-8.9903 3.7239-3.7239 5.6184-3.7239 8.9903 1.3396 6.606 3.7239 8.9903c2.3842 2.3842 5.6184 3.7239 8.9903 3.7239z\" clip-path=\"url(#5ee487035fc)\" fill=\"#808080\" fill-opacity=\".5\" stroke=\"#555555\" stroke-opacity=\".5\"/><path d=\"m175.56 127.93c3.3718 0 6.606-1.3396 8.9903-3.7239 2.3842-2.3842 3.7239-5.6184 3.7239-8.9903s-1.3396-6.606-3.7239-8.9903-5.6184-3.7239-8.9903-3.7239-6.606 1.3396-8.9903 3.7239-3.7239 5.6184-3.7239 8.9903 1.3396 6.606 3.7239 8.9903c2.3842 2.3842 5.6184 3.7239 8.9903 3.7239z\" clip-path=\"url(#5ee487035fc)\" fill=\"#e69f00\" stroke=\"#996a00\"/><path d=\"m131.06 77.069c3.3718 0 6.606-1.3396 8.9903-3.7239s3.7239-5.6184 3.7239-8.9903-1.3396-6.606-3.7239-8.9903c-2.3842-2.3842-5.6184-3.7239-8.9903-3.7239s-6.606 1.3396-8.9903 3.7239c-2.3842 2.3842-3.7239 5.6184-3.7239 8.9903s1.3396 6.606 3.7239 8.9903 5.6184 3.7239 8.9903 3.7239z\" clip-path=\"url(#5ee487035fc)\" fill=\"#808080\" fill-opacity=\".5\" stroke=\"#555555\" stroke-opacity=\".5\"/><g transform=\"translate(20.583 219.15) scale(.08 -.08)\" fill=\"#808080\"><defs><path id=\"DejaVuSansMono-30\" transform=\"scale(.015625)\" d=\"m1509 2344q0 172 120 297 121 125 290 125 175 0 300-125t125-297q0-175-124-297-123-122-301-122-175 0-293 119-117 119-117 300zm416 1906q-441 0-658-475t-217-1447q0-969 217-1444t658-475q444 0 661 475t217 1444q0 972-217 1447t-661 475zm0 500q747 0 1130-613 383-612 383-1809 0-1194-383-1807-383-612-1130-612t-1128 612q-381 613-381 1807 0 1197 381 1809 381 613 1128 613z\"/></defs><use xlink:href=\"#DejaVuSansMono-30\"/></g><g transform=\"translate(71.439 219.15) scale(.08 -.08)\" fill=\"#808080\"><defs><path id=\"DejaVuSansMono-31\" transform=\"scale(.015625)\" d=\"m844 531h981v3566l-1056-238v575l1050 232h631v-4135h969v-531h-2575v531z\"/></defs><use xlink:href=\"#DejaVuSansMono-31\"/></g><g transform=\"translate(122.3 168.3) scale(.08 -.08)\" fill=\"#808080\"><defs><path id=\"DejaVuSansMono-33\" transform=\"scale(.015625)\" d=\"m2425 2497q459-122 703-433t244-776q0-644-433-1012-433-367-1198-367-322 0-657 60-334 59-656 172v628q319-166 628-247 310-81 616-81 519 0 797 234t278 675q0 406-278 645t-753 239h-482v519h482q434 0 678 190 244 191 244 532 0 359-227 551-227 193-645 193-278 0-575-63-297-62-622-187v581q378 100 673 150 296 50 524 50 681 0 1089-342t408-908q0-384-215-641-214-256-623-362z\"/></defs><use xlink:href=\"#DejaVuSansMono-33\"/></g><g transform=\"translate(173.15 117.44) scale(.08 -.08)\" fill=\"#808080\"><defs><path id=\"DejaVuSansMono-32\" transform=\"scale(.015625)\" d=\"m1166 531h2143v-531h-2834v531q584 616 1021 1088 438 472 604 665 313 382 422 618t109 482q0 391-230 613-229 222-629 222-284 0-597-103-312-103-662-313v638q321 153 632 231t614 78q685 0 1102-364t417-955q0-300-139-600t-451-662q-175-203-508-563-333-359-1014-1075z\"/></defs><use xlink:href=\"#DejaVuSansMono-32\"/></g><g transform=\"translate(124.17 11.791) scale(.06 -.06)\" fill=\"#808080\"><use xlink:href=\"#DejaVuSansMono-78\"/></g><g transform=\"translate(134.34 11.791) scale(.06 -.06)\" fill=\"#808080\"><use xlink:href=\"#DejaVuSansMono-79\"/></g><defs><clipPath id=\"5ee487035fc\"><rect x=\"7.2\" y=\"11.324\" width=\"184.15\" height=\"221.76\"/></clipPath></defs></svg>"
      ],
      "text/plain": [
       "<Figure size 400x400 with 1 Axes>"
      ]
     },
     "metadata": {
      "needs_background": "light"
     },
     "output_type": "display_data"
    }
   ],
   "source": [
    "tree.plot_flat();"
   ]
  },
  {
   "cell_type": "markdown",
   "id": "f2ec336e-1db6-434e-be91-d116c1f784d2",
   "metadata": {},
   "source": [
    "The tree (which also has the mathematical name,\n",
    "['carving decomposition'](https://en.wikipedia.org/wiki/Branch-decomposition#Carving_width)) contains all the crucial information about costs and sizes of\n",
    "intermediate tensors:"
   ]
  },
  {
   "cell_type": "code",
   "execution_count": 7,
   "id": "9c06c75f-464e-492b-a1d2-20c8c3b63aab",
   "metadata": {},
   "outputs": [
    {
     "data": {
      "text/plain": [
       "(8.39231742277876, 4656)"
      ]
     },
     "execution_count": 7,
     "metadata": {},
     "output_type": "execute_result"
    }
   ],
   "source": [
    "tree.contraction_width(), tree.contraction_cost()"
   ]
  },
  {
   "cell_type": "markdown",
   "id": "dbeb57ba-a73b-4d8e-b7e8-6b69b6fdcf6d",
   "metadata": {},
   "source": [
    "* the ***contraction width***, $W$, is $log_2$ the size of the largest intermediate tensor\n",
    "* the ***contraction cost***, $C$, is the total number of scalar multiplications\n",
    "\n",
    "The tree can be used to perform the actual contraction too:"
   ]
  },
  {
   "cell_type": "code",
   "execution_count": 8,
   "id": "cbf3ec5a-d204-4ff4-843a-c17f6c7879ec",
   "metadata": {},
   "outputs": [
    {
     "data": {
      "text/plain": [
       "array([[6720., 6720., 6720.],\n",
       "       [6720., 6720., 6720.]])"
      ]
     },
     "execution_count": 8,
     "metadata": {},
     "output_type": "execute_result"
    }
   ],
   "source": [
    "tree.contract(arrays)"
   ]
  },
  {
   "cell_type": "markdown",
   "id": "98e7a525-f979-4433-aa5f-12b90264f9f6",
   "metadata": {},
   "source": [
    "A tree combined with a specific traversal ordering is known as a ***path***:"
   ]
  },
  {
   "cell_type": "code",
   "execution_count": 9,
   "id": "d0aa12c6-b61d-427b-87b6-ebd81cf4803d",
   "metadata": {},
   "outputs": [
    {
     "data": {
      "text/plain": [
       "((0, 1), (1, 2), (0, 1))"
      ]
     },
     "execution_count": 9,
     "metadata": {},
     "output_type": "execute_result"
    }
   ],
   "source": [
    "path = tree.get_path()\n",
    "path"
   ]
  },
  {
   "cell_type": "markdown",
   "id": "074140f1-f095-4671-b227-adba4dcba382",
   "metadata": {},
   "source": [
    "Such paths can be supplied to `opt_einsum` and `quimb` functions, *or*\n",
    "you can supply the [`HyperOptimizer`](cotengra.hyper.HyperOptimizer)\n",
    "itself, in which case it will first run a search and then pass on a path."
   ]
  },
  {
   "cell_type": "markdown",
   "id": "7a784d01-fc8b-44e3-8204-ee11db4f924f",
   "metadata": {
    "tags": []
   },
   "source": [
    "#### With ``quimb``"
   ]
  },
  {
   "cell_type": "code",
   "execution_count": 10,
   "id": "42aa390b-65c5-4779-bb0f-df1f2c592e05",
   "metadata": {},
   "outputs": [
    {
     "data": {
      "text/html": [
       "<samp style='font-size: 12px;'><details><summary><b style=\"color: #e55471;\">Tensor</b>(shape=(<b style=\"color: #828fdd;\">2</b>, <b style=\"color: #8a5bcf;\">3</b>), inds=[<b style=\"color: #d3826d;\">x</b>, <b style=\"color: #5483e2;\">y</b>], tags={}),</summary>backend=<b style=\"color: #7fdd73;\">numpy</b>, dtype=<b style=\"color: #75d2c6;\">float64</b>, data=array([[6720., 6720., 6720.],\n",
       "       [6720., 6720., 6720.]])</details></samp>"
      ],
      "text/plain": [
       "Tensor(shape=(2, 3), inds=('x', 'y'), tags=oset([]))"
      ]
     },
     "execution_count": 10,
     "metadata": {},
     "output_type": "execute_result"
    }
   ],
   "source": [
    "import quimb.tensor as qtn\n",
    "\n",
    "tn = qtn.TensorNetwork(\n",
    "    [qtn.Tensor(array, inds) for array, inds in zip(arrays, inputs)]\n",
    ")\n",
    "\n",
    "tn.contract(..., optimize=ctg.HyperOptimizer())"
   ]
  },
  {
   "cell_type": "markdown",
   "id": "839765b6-8451-499b-85cd-f753f556ea64",
   "metadata": {},
   "source": [
    "Note for non-hyper graphs `quimb` will figure out the output indices for you,\n",
    "else you will need to supply `output_inds`. `quimb` also knows how to return\n",
    "the [`ContractionTree`](cotengra.core.ContractionTree) directly with:"
   ]
  },
  {
   "cell_type": "code",
   "execution_count": 11,
   "id": "31bfd2a9-9128-4c74-98a2-064179e13d37",
   "metadata": {},
   "outputs": [
    {
     "data": {
      "text/plain": [
       "<ContractionTree(N=4)>"
      ]
     },
     "execution_count": 11,
     "metadata": {},
     "output_type": "execute_result"
    }
   ],
   "source": [
    "tn.contraction_tree(path)"
   ]
  },
  {
   "cell_type": "markdown",
   "id": "b858c274-1dc7-428a-95f5-bbd741bdb023",
   "metadata": {},
   "source": [
    "And many other methods and algorithms take a `optimize=path_or_optimizer` option."
   ]
  },
  {
   "cell_type": "markdown",
   "id": "cf9fec71-71f8-4394-87c7-a3336c91af41",
   "metadata": {},
   "source": [
    "#### With `opt_einsum`"
   ]
  },
  {
   "cell_type": "markdown",
   "id": "28c7ea55-c4d2-4d2d-a65c-db982b766bc5",
   "metadata": {},
   "source": [
    "You can supply a `path` or `HyperOptimizer` to all the functions of `opt_einsum`\n",
    "which take an `optimize` kwarg:"
   ]
  },
  {
   "cell_type": "code",
   "execution_count": 12,
   "id": "c4235c8d-47c5-4a15-ab25-e58ab98ac559",
   "metadata": {},
   "outputs": [
    {
     "data": {
      "text/plain": [
       "array([[6720., 6720., 6720.],\n",
       "       [6720., 6720., 6720.]])"
      ]
     },
     "execution_count": 12,
     "metadata": {},
     "output_type": "execute_result"
    }
   ],
   "source": [
    "import opt_einsum as oe\n",
    "\n",
    "oe.contract(eq, *arrays, optimize=path)"
   ]
  },
  {
   "cell_type": "markdown",
   "id": "476158f6-4dfb-488e-9df9-e9e0be1c10a0",
   "metadata": {},
   "source": [
    "```{hint}\n",
    "For convenience `cotengra` also registers a few presets which can be used like `optimize='hyper'`, these can also be created.\n",
    "```"
   ]
  },
  {
   "cell_type": "markdown",
   "id": "9cded446-465a-4ced-a133-6dc55d1eebf7",
   "metadata": {},
   "source": [
    "A single [`HyperOptimizer`](cotengra.hyper.HyperOptimizer) instance can only be used for a single contraction - everytime you supply it, as long as the contraction matches, it will simply continue it's search."
   ]
  },
  {
   "cell_type": "markdown",
   "id": "d77aee38-47b8-4197-93f1-8b4ba41e5869",
   "metadata": {},
   "source": [
    "## `ReusableHyperOptimizer`\n",
    "\n",
    "Often, instead you want a single optimizer with maybe customized settings to use for many different contractions - the answer is to use a [`ReusableHyperOptimizer`](cotengra.hyper.ReusableHyperOptimizer).\n",
    "Everytime this is supplied to a *new* contraction it runs a search and stores the resulting path. The next time it sees this contraction it simply returns this cached path."
   ]
  },
  {
   "cell_type": "code",
   "execution_count": 13,
   "id": "74a31688-7048-44f2-8c2c-e860689ef295",
   "metadata": {},
   "outputs": [],
   "source": [
    "opt = ctg.ReusableHyperOptimizer(progbar=True)"
   ]
  },
  {
   "cell_type": "code",
   "execution_count": 14,
   "id": "029f66c6-76e4-490c-8db1-27f737fd6308",
   "metadata": {},
   "outputs": [
    {
     "name": "stderr",
     "output_type": "stream",
     "text": [
      "F=3.67 C=4.51 S=8.39 P=9.90: 100%|██████████| 128/128 [00:01<00:00, 82.14it/s]\n"
     ]
    },
    {
     "data": {
      "text/plain": [
       "<ContractionTree(N=4)>"
      ]
     },
     "execution_count": 14,
     "metadata": {},
     "output_type": "execute_result"
    }
   ],
   "source": [
    "opt.search(inputs, output, size_dict)"
   ]
  },
  {
   "cell_type": "code",
   "execution_count": 15,
   "id": "cfb5758d-dccd-41bb-842a-ce69274815a4",
   "metadata": {},
   "outputs": [
    {
     "data": {
      "text/plain": [
       "<ContractionTree(N=4)>"
      ]
     },
     "execution_count": 15,
     "metadata": {},
     "output_type": "execute_result"
    }
   ],
   "source": [
    "opt.search(inputs, output, size_dict)"
   ]
  },
  {
   "cell_type": "markdown",
   "id": "44b3e161-f06e-47ed-a7b4-ef10a2dabc6f",
   "metadata": {},
   "source": [
    "Note how the second call didn't display a progress bar as it used the cached result.\n",
    "\n",
    "```{hint}\n",
    "The contractions are not cached using full (hyper) graph isomoprhism, which would not be scalable. Instead, the inputs have to be in the same order to produce the same hash key.\n",
    "```"
   ]
  },
  {
   "cell_type": "markdown",
   "id": "2274aa4f-69db-4f90-b22a-61071872aa95",
   "metadata": {},
   "source": [
    "### Disk persistence\n",
    "\n",
    "If you want to persist contraction paths across python sessions (i.e. don't want to explicitly save the `tree` or `path` objects yourself), then you can supply the `directory` kwarg:"
   ]
  },
  {
   "cell_type": "code",
   "execution_count": 16,
   "id": "cfb5c741-176a-4fe2-bc57-fe80ac6eb112",
   "metadata": {},
   "outputs": [],
   "source": [
    "opt = ctg.ReusableHyperOptimizer(directory=\"cotengra_cache\")"
   ]
  },
  {
   "cell_type": "code",
   "execution_count": 17,
   "id": "74328ba8-826b-44d1-9cd9-d16809b88ab8",
   "metadata": {},
   "outputs": [
    {
     "data": {
      "text/plain": [
       "<ContractionTree(N=4)>"
      ]
     },
     "execution_count": 17,
     "metadata": {},
     "output_type": "execute_result"
    }
   ],
   "source": [
    "opt.search(inputs, output, size_dict)"
   ]
  },
  {
   "cell_type": "markdown",
   "id": "74b06b17-a7af-4464-8409-729f983d0de5",
   "metadata": {},
   "source": [
    "The directory contains sharded structure with single pickled file per contraction it has seen:"
   ]
  },
  {
   "cell_type": "code",
   "execution_count": 18,
   "id": "4c7e466e-c7bf-43dd-a198-888fdc7334a0",
   "metadata": {},
   "outputs": [
    {
     "name": "stdout",
     "output_type": "stream",
     "text": [
      "04\n"
     ]
    }
   ],
   "source": [
    "!ls cotengra_cache/"
   ]
  },
  {
   "cell_type": "code",
   "execution_count": 19,
   "id": "0db8e920-1d77-4e15-b729-e1e1d4204584",
   "metadata": {},
   "outputs": [],
   "source": [
    "# clean it up for now\n",
    "!rm -rf cotengra_cache/"
   ]
  },
  {
   "cell_type": "markdown",
   "id": "45f14770",
   "metadata": {},
   "source": [
    "If you supply `directory=True` then the cache name will be generated from a\n",
    "hash of the relevant path finding options supplied to the optimizer, meaning\n",
    "you don't need to manually change the name in order to use different caches\n",
    "for different settings."
   ]
  },
  {
   "cell_type": "markdown",
   "id": "d9c6309b",
   "metadata": {},
   "source": [
    "## What next?\n",
    "\n",
    "* The ['Advanced'](advanced) page, describes how to customize a [`HyperOptimizer`](cotengra.hyper.HyperOptimizer) in detail, for example to include subtree reconfiguration and dynamic slicing\n",
    "* The ['Visualization'](visualization) page details many functions for plotting the contraction, tree and optimizer trials\n",
    "* The ['Contraction'](contraction) page contains more information about actually performing the contraction, for example using a GPU\n",
    "* The ['Tree Surgery'](trees) page describes the design of the central [`ContractionTree`](cotengra.core.ContractionTree) object and ways to manipulate it\n",
    "\n",
    "## Quick-start\n",
    "\n",
    "If you just want to get going, the following illustrate some common customizations of the optimizers."
   ]
  },
  {
   "cell_type": "markdown",
   "id": "4dfeec6c",
   "metadata": {},
   "source": [
    "### High quality sliced optimizer\n",
    "\n",
    "The following is an example of a high quality optimizer you might use to search\n",
    "for a single contraction, where you are memory bound to width $W=30$ and thus\n",
    "need to use slicing:"
   ]
  },
  {
   "cell_type": "code",
   "execution_count": 20,
   "id": "e9a47175",
   "metadata": {},
   "outputs": [],
   "source": [
    "opt_hq_W30 = ctg.HyperOptimizer(\n",
    "    # do extra runs\n",
    "    max_repeats=1024,\n",
    "    # use dynamic slicing to target a width of 30\n",
    "    slicing_reconf_opts={\"target_size\": 2**30},\n",
    "    # use the cmaes space searcher - good with large trial budget\n",
    "    optlib=\"cmaes\",\n",
    "    # terminate search if no change for 128 trials\n",
    "    max_time=\"equil:128\",\n",
    "    # show live progress\n",
    "    progbar=True,\n",
    ")"
   ]
  },
  {
   "cell_type": "markdown",
   "id": "2d98d65b",
   "metadata": {},
   "source": [
    "* Everytime you supply this optimizer instance it will *continue* its search, so you\n",
    "can interactively run it until you are happy or it seems to have converged.\n",
    "\n",
    "* While a few hundred runs is usually sufficient when no slicing is needed, very large contractions requiring heavy slicing might benefit from a few thousand runs."
   ]
  },
  {
   "cell_type": "markdown",
   "id": "d4207442",
   "metadata": {},
   "source": [
    "### Economical optimizer\n",
    "\n",
    "The following is an example of a reusable optimizer that is cheap to run and\n",
    "requires no extra depedencies (i.e. `kahypar` or a Bayesian optimizer),\n",
    "but will still yield much better results than simple algorithms.\n",
    "Useful if you have many smallish contractions:"
   ]
  },
  {
   "cell_type": "code",
   "execution_count": 21,
   "id": "1a9b54ea",
   "metadata": {},
   "outputs": [],
   "source": [
    "opt_eco = ctg.ReusableHyperOptimizer(\n",
    "    # just do a few runs\n",
    "    max_repeats=32,\n",
    "    # only use the basic greedy optimizer ...\n",
    "    methods=[\"greedy\"],\n",
    "    # ... but pair it with reconfiguration\n",
    "    reconf_opts={},\n",
    "    # just uniformly sample the space\n",
    "    optlib=\"random\",\n",
    "    # terminate search if contraction is cheap\n",
    "    max_time=\"rate:1e6\",\n",
    "    # account for both flops and write - usually wise for practical performance\n",
    "    minimize=\"combo-64\",\n",
    "    # persist paths found in here\n",
    "    directory=\"cotengra_cache_eco\",\n",
    ")"
   ]
  },
  {
   "cell_type": "markdown",
   "id": "d6d3e4be",
   "metadata": {},
   "source": [
    "An even faster option if one doesn't need slicing or to specific the `minimize` objective function is the [`ReusableRandomGreedyOptimizer`](ctg.ReusableRandomGreedyOptimizer) which still provides good results but can run extremely quickly (especially if `cotengrust` is installed):"
   ]
  },
  {
   "cell_type": "code",
   "execution_count": 22,
   "id": "c51ead4e",
   "metadata": {},
   "outputs": [],
   "source": [
    "opt_rg = ctg.ReusableRandomGreedyOptimizer()"
   ]
  },
  {
   "cell_type": "code",
   "execution_count": 23,
   "id": "70a1551d-7a15-4f68-b250-79f789a0a095",
   "metadata": {},
   "outputs": [],
   "source": [
    "# clean up the cache for now\n",
    "!rm -rf cotengra_cache_eco"
   ]
  }
 ],
 "metadata": {
  "kernelspec": {
   "display_name": "Python 3",
   "language": "python",
   "name": "python3"
  },
  "language_info": {
   "codemirror_mode": {
    "name": "ipython",
    "version": 3
   },
   "file_extension": ".py",
   "mimetype": "text/x-python",
   "name": "python",
   "nbconvert_exporter": "python",
   "pygments_lexer": "ipython3",
   "version": "3"
  }
 },
 "nbformat": 4,
 "nbformat_minor": 5
}
