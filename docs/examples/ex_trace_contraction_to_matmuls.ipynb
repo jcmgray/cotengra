{
 "cells": [
  {
   "cell_type": "markdown",
   "id": "551a15b6",
   "metadata": {},
   "source": [
    "(ex_extract_contraction)=\n",
    "\n",
    "# Extract contraction to matmuls only"
   ]
  },
  {
   "cell_type": "code",
   "execution_count": 6,
   "id": "7261d7a0-bd84-4357-aeed-c72f0fb5774a",
   "metadata": {},
   "outputs": [],
   "source": [
    "%config InlineBackend.figure_formats = ['svg']\n",
    "\n",
    "import autoray as ar\n",
    "\n",
    "import cotengra as ctg"
   ]
  },
  {
   "cell_type": "markdown",
   "id": "aecf93ca",
   "metadata": {},
   "source": [
    "Create a random contraction and contraction tree:"
   ]
  },
  {
   "cell_type": "code",
   "execution_count": 22,
   "id": "e1f4edfc-b4f9-4760-87d0-45c335d71175",
   "metadata": {},
   "outputs": [],
   "source": [
    "inputs, output, shapes, size_dict = ctg.utils.rand_equation(\n",
    "    n=6,\n",
    "    reg=5,\n",
    "    n_out=1,\n",
    "    n_hyper_in=1,\n",
    "    n_hyper_out=1,\n",
    "    seed=42,\n",
    ")\n",
    "\n",
    "# square grid contraction:\n",
    "# inputs, output, shapes, size_dict = ctg.utils.lattice_equation([3, 4])"
   ]
  },
  {
   "cell_type": "code",
   "execution_count": 12,
   "id": "36c7a326-261f-4e8b-a834-7218824ffda0",
   "metadata": {},
   "outputs": [
    {
     "data": {
      "image/svg+xml": [
       "<?xml version=\"1.0\" encoding=\"UTF-8\"?><!DOCTYPE svg  PUBLIC '-//W3C//DTD SVG 1.1//EN'  'http://www.w3.org/Graphics/SVG/1.1/DTD/svg11.dtd'><svg width=\"293.4pt\" height=\"204.8pt\" version=\"1.1\" viewBox=\"0 0 293.4 204.8\" xmlns=\"http://www.w3.org/2000/svg\" xmlns:xlink=\"http://www.w3.org/1999/xlink\"><defs><style type=\"text/css\">*{stroke-linejoin: round; stroke-linecap: butt}</style></defs><path d=\"m0 204.8h293.4v-204.8h-293.4v204.8z\" fill=\"none\"/><path d=\"m85.616 58.255 58.676 11.88\" clip-path=\"url(#07e0a145c41)\" fill=\"none\" stroke=\"#7aacd4\" stroke-dasharray=\"3.7,1.6\"/><path d=\"m85.616 58.255 13.276 66.224\" clip-path=\"url(#07e0a145c41)\" fill=\"none\" stroke=\"#7aacd4\" stroke-dasharray=\"3.7,1.6\"/><path d=\"m85.616 58.255 67.449-23.441\" clip-path=\"url(#07e0a145c41)\" fill=\"none\" stroke=\"#7aacd4\" stroke-dasharray=\"3.7,1.6\"/><path d=\"m85.616 58.255 53.916 67.659\" clip-path=\"url(#07e0a145c41)\" fill=\"none\" stroke=\"#7aacd4\" stroke-dasharray=\"3.7,1.6\"/><path d=\"m85.616 58.255-65.593-34.723\" clip-path=\"url(#07e0a145c41)\" fill=\"none\" stroke=\"#7aacd4\" stroke-dasharray=\"3.7,1.6\"/><path d=\"m144.29 70.135 43.667 43.421\" clip-path=\"url(#07e0a145c41)\" fill=\"none\" stroke=\"#b9e292\" stroke-dasharray=\"3.7,1.6\"/><path d=\"m144.29 70.135q15.416 5.6896 20.555 5.6885c4.4061-9.61e-4 13.217-3.6641 17.623-4.8855 4.4058-1.2214 13.846-2.6178 17.623-4.8855q4.4055-2.6446 14.692-15.459\" clip-path=\"url(#07e0a145c41)\" fill=\"none\" stroke=\"#5db6d5\" stroke-linecap=\"round\"/><g transform=\"translate(180.74 73.729) rotate(-15.494) scale(.08 -.08)\" fill=\"#808080\"><defs><path id=\"DejaVuSansMono-63\" transform=\"scale(.015625)\" d=\"m3316 178q-232-134-477-201-245-68-501-68-813 0-1271 487-458 488-458 1351 0 862 458 1349 458 488 1271 488 253 0 493-66 241-65 485-202v-603q-228 203-458 293-230 91-520 91-541 0-832-350-290-350-290-1e3 0-647 292-999 292-351 830-351 300 0 537 92 238 92 441 286v-597z\"/></defs><use xlink:href=\"#DejaVuSansMono-63\"/></g><path d=\"m144.29 70.135q13.217-3.6641 17.623-4.8855c4.4058-1.2214 13.217-3.6641 17.623-4.8855s13.217-3.6641 17.623-4.8855q4.4058-1.2214 17.623-4.8855\" clip-path=\"url(#07e0a145c41)\" fill=\"none\" stroke=\"#3ddfb7\" stroke-linecap=\"round\"/><g transform=\"translate(177.81 63.155) rotate(-15.494) scale(.08 -.08)\" fill=\"#808080\"><defs><path id=\"DejaVuSansMono-65\" transform=\"scale(.015625)\" d=\"m3475 1894v-281h-2491v-19q0-572 298-885 299-312 843-312 275 0 575 87 300 88 641 266v-572q-328-134-633-201-305-68-589-68-816 0-1276 489-459 490-459 1349 0 837 450 1337t1200 500q669 0 1055-453t386-1237zm-575 169q-12 506-239 770t-652 264q-415 0-684-275t-319-763l1894 4z\"/></defs><use xlink:href=\"#DejaVuSansMono-65\"/></g><path d=\"m144.29 70.135q10.286-12.815 14.692-15.459c3.7777-2.2677 13.217-3.6641 17.623-4.8855s13.217-4.8845 17.623-4.8855q5.1383-0.00112 20.555 5.6885\" clip-path=\"url(#07e0a145c41)\" fill=\"none\" stroke=\"#dee363\" stroke-linecap=\"round\" stroke-width=\"1.585\"/><g transform=\"translate(174.88 52.581) rotate(-15.494) scale(.08 -.08)\" fill=\"#808080\"><defs><path id=\"DejaVuSansMono-66\" transform=\"scale(.015625)\" d=\"m3322 4863v-479h-653q-310 0-430-127-120-126-120-448v-309h1203v-447h-1203v-3053h-575v3053h-935v447h935v244q0 575 264 847t823 272h691z\"/></defs><use xlink:href=\"#DejaVuSansMono-66\"/></g><path d=\"m144.29 70.135q-13.158 6.0863-16.784 9.0461c-3.3667 2.7481-8.5124 10.19-11.35 13.586-2.8375 3.3965-9.2446 9.7841-11.35 13.586q-2.2675 4.0948-5.9154 18.126\" clip-path=\"url(#07e0a145c41)\" fill=\"none\" stroke=\"#4ee480\" stroke-linecap=\"round\"/><g transform=\"translate(116.32 96.044) rotate(-50.124) scale(.08 -.08)\" fill=\"#808080\"><defs><path id=\"DejaVuSansMono-64\" transform=\"scale(.015625)\" d=\"m2681 3053v1810h575v-4863h-575v441q-143-260-383-396-239-136-551-136-634 0-999 492-364 493-364 1358 0 854 366 1339 366 486 997 486 316 0 556-136 241-135 378-395zm-1690-1306q0-669 212-1010 213-340 628-340 416 0 633 343 217 344 217 1007 0 666-217 1008t-633 342q-415 0-628-341-212-340-212-1009z\"/></defs><use xlink:href=\"#DejaVuSansMono-64\"/></g><path d=\"m144.29 70.135q-3.648 14.031-5.9154 18.126c-2.1053 3.802-8.5124 10.19-11.35 13.586-2.8375 3.3965-7.9832 10.838-11.35 13.586q-3.6261 2.9598-16.784 9.0461\" clip-path=\"url(#07e0a145c41)\" fill=\"none\" stroke=\"#83dec4\" stroke-linecap=\"round\"/><g transform=\"translate(127.19 105.12) rotate(-50.124) scale(.08 -.08)\" fill=\"#808080\"><defs><path id=\"DejaVuSansMono-68\" transform=\"scale(.015625)\" d=\"m3284 2169v-2169h-578v2169q0 472-166 693-165 222-518 222-403 0-621-286-217-285-217-820v-1978h-575v4863h575v-1888q154 300 416 454 263 155 622 155 534 0 798-352 264-351 264-1063z\"/></defs><use xlink:href=\"#DejaVuSansMono-68\"/></g><path d=\"m144.29 70.135 8.7735-35.321\" clip-path=\"url(#07e0a145c41)\" fill=\"none\" stroke=\"#5552d1\" stroke-linecap=\"round\"/><g transform=\"translate(150.21 55.335) rotate(-76.05) scale(.08 -.08)\" fill=\"#808080\"><defs><path id=\"DejaVuSansMono-67\" transform=\"scale(.015625)\" d=\"m2681 1778q0 647-211 983t-614 336q-422 0-644-336-221-336-221-983t223-986q224-339 649-339 396 0 607 340 211 341 211 985zm575-1553q0-788-372-1194-371-406-1093-406-238 0-498 44-259 43-518 128v569q306-144 556-213t460-69q465 0 677 254 213 253 213 803v25 390q-137-293-375-437-237-144-578-144-612 0-978 490-366 491-366 1313 0 825 366 1315 366 491 978 491 338 0 572-134t381-416v454h575v-3263z\"/></defs><use xlink:href=\"#DejaVuSansMono-67\"/></g><path d=\"m98.893 124.48 89.066-10.923\" clip-path=\"url(#07e0a145c41)\" fill=\"none\" stroke=\"#b9e292\" stroke-dasharray=\"3.7,1.6\"/><path d=\"m98.893 124.48 40.64 1.4345\" clip-path=\"url(#07e0a145c41)\" fill=\"none\" stroke=\"#84e198\" stroke-linecap=\"round\"/><g transform=\"translate(116.73 127.34) rotate(2.0216) scale(.08 -.08)\" fill=\"#808080\"><defs><path id=\"DejaVuSansMono-6e\" transform=\"scale(.015625)\" d=\"m3284 2169v-2169h-578v2169q0 472-166 693-165 222-518 222-403 0-621-286-217-285-217-820v-1978h-575v3500h575v-525q154 300 416 454 263 155 622 155 534 0 798-352 264-351 264-1063z\"/></defs><use xlink:href=\"#DejaVuSansMono-6e\"/></g><path d=\"m153.07 34.814 34.893 78.742\" clip-path=\"url(#07e0a145c41)\" fill=\"none\" stroke=\"#b9e292\" stroke-dasharray=\"3.7,1.6\"/><path d=\"m153.07 34.814q9.1809 10.977 13.063 13.203c3.3289 1.9083 11.572 2.9586 15.43 3.9448 3.8575 0.9862 11.594 4.0212 15.43 3.9448q4.4739-0.089097 17.797-5.3132\" clip-path=\"url(#07e0a145c41)\" fill=\"none\" stroke=\"#c9cf89\" stroke-linecap=\"round\"/><g transform=\"translate(178.67 53.524) rotate(14.341) scale(.08 -.08)\" fill=\"#808080\"><defs><path id=\"DejaVuSansMono-6b\" transform=\"scale(.015625)\" d=\"m738 4863h593v-2816l1510 1453h700l-1378-1319 1593-2181h-703l-1294 1806-428-403v-1403h-593v4863z\"/></defs><use xlink:href=\"#DejaVuSansMono-6b\"/></g><path d=\"m153.07 34.814q11.572 2.9586 15.43 3.9448c3.8575 0.9862 11.572 2.9586 15.43 3.9448 3.8575 0.9862 11.572 2.9586 15.43 3.9448q3.8575 0.9862 15.43 3.9448\" clip-path=\"url(#07e0a145c41)\" fill=\"none\" stroke=\"#d5bf35\" stroke-linecap=\"round\"/><g transform=\"translate(181.04 44.266) rotate(14.341) scale(.08 -.08)\" fill=\"#808080\"><defs><path id=\"DejaVuSansMono-6c\" transform=\"scale(.015625)\" d=\"m1997 1269q0-388 142-585 142-196 420-196h672v-488h-728q-515 0-798 331-283 332-283 938v3178h-922v450h1497v-3628z\"/></defs><use xlink:href=\"#DejaVuSansMono-6c\"/></g><path d=\"m153.07 34.814q13.323-5.2241 17.797-5.3132c3.8363-0.0764 11.572 2.9586 15.43 3.9448 3.8575 0.9862 12.101 2.0365 15.43 3.9448q3.8822 2.2254 13.063 13.203\" clip-path=\"url(#07e0a145c41)\" fill=\"none\" stroke=\"#ca30d8\" stroke-linecap=\"round\"/><g transform=\"translate(183.41 35.008) rotate(14.341) scale(.08 -.08)\" fill=\"#808080\"><defs><path id=\"DejaVuSansMono-6d\" transform=\"scale(.015625)\" d=\"m2113 3144q106 225 270 332 164 108 395 108 422 0 595-327 174-326 174-1229v-2028h-525v2003q0 741-83 920-83 180-301 180-250 0-343-192-92-192-92-908v-2003h-525v2003q0 750-89 925t-320 175q-228 0-317-192t-89-908v-2003h-522v3500h522v-300q103 188 257 286 155 98 352 98 237 0 395-109t246-331z\"/></defs><use xlink:href=\"#DejaVuSansMono-6d\"/></g><path d=\"m153.07 34.814-13.533 91.1\" clip-path=\"url(#07e0a145c41)\" fill=\"none\" stroke=\"#73afe3\" stroke-linecap=\"round\"/><g transform=\"translate(148.15 83.073) rotate(-81.551) scale(.08 -.08)\" fill=\"#808080\"><defs><path id=\"DejaVuSansMono-6f\" transform=\"scale(.015625)\" d=\"m1925 3097q-437 0-662-341-225-340-225-1009 0-666 225-1008t662-342q441 0 666 342t225 1008q0 669-225 1009-225 341-666 341zm0 487q728 0 1114-472 386-471 386-1365 0-897-385-1368-384-470-1115-470-728 0-1113 470-384 471-384 1368 0 894 384 1365 385 472 1113 472z\"/></defs><use xlink:href=\"#DejaVuSansMono-6f\"/></g><path d=\"m139.53 125.91 48.426-12.358\" clip-path=\"url(#07e0a145c41)\" fill=\"none\" stroke=\"#b9e292\" stroke-dasharray=\"3.7,1.6\"/><path d=\"m139.53 125.91 50.826 59.737\" clip-path=\"url(#07e0a145c41)\" fill=\"none\" stroke=\"#7b94dc\" stroke-linecap=\"round\"/><g transform=\"translate(161.69 155.39) rotate(49.608) scale(.08 -.08)\" fill=\"#808080\"><defs><path id=\"DejaVuSansMono-69\" transform=\"scale(.015625)\" d=\"m800 3500h1472v-3053h1141v-447h-2857v447h1141v2606h-897v447zm897 1363h575v-729h-575v729z\"/></defs><use xlink:href=\"#DejaVuSansMono-69\"/></g><path d=\"m187.96 113.56 2.3997 72.095\" clip-path=\"url(#07e0a145c41)\" fill=\"none\" stroke=\"#b9e292\" stroke-dasharray=\"3.7,1.6\"/><path d=\"m187.96 113.56 26.827-62.963\" clip-path=\"url(#07e0a145c41)\" fill=\"none\" stroke=\"#b9e292\" stroke-dasharray=\"3.7,1.6\"/><path d=\"m214.79 50.593 58.592-31.438\" clip-path=\"url(#07e0a145c41)\" fill=\"none\" stroke=\"#9daae1\" stroke-linecap=\"round\" stroke-width=\"1.585\"/><path d=\"m85.616 67.426c2.4321 0 4.7649-0.96627 6.4846-2.686s2.686-4.0525 2.686-6.4846-0.96627-4.7649-2.686-6.4846c-1.7197-1.7197-4.0525-2.686-6.4846-2.686-2.4321 0-4.7649 0.96627-6.4846 2.686-1.7197 1.7197-2.686 4.0525-2.686 6.4846s0.96627 4.7649 2.686 6.4846 4.0525 2.686 6.4846 2.686z\" clip-path=\"url(#07e0a145c41)\" fill=\"none\"/><path d=\"m144.29 79.305c2.4321 0 4.7649-0.96627 6.4846-2.686 1.7197-1.7197 2.686-4.0525 2.686-6.4846s-0.96627-4.7649-2.686-6.4846-4.0525-2.686-6.4846-2.686c-2.4321 0-4.7649 0.96627-6.4846 2.686s-2.686 4.0525-2.686 6.4846 0.96627 4.7649 2.686 6.4846c1.7197 1.7197 4.0525 2.686 6.4846 2.686z\" clip-path=\"url(#07e0a145c41)\" fill=\"#0072b2\" stroke=\"#004c77\"/><path d=\"m98.893 133.65c2.4321 0 4.7649-0.96627 6.4846-2.686 1.7197-1.7197 2.686-4.0525 2.686-6.4846s-0.96627-4.7649-2.686-6.4846c-1.7197-1.7197-4.0525-2.686-6.4846-2.686s-4.7649 0.96627-6.4846 2.686-2.686 4.0525-2.686 6.4846 0.96627 4.7649 2.686 6.4846c1.7197 1.7197 4.0525 2.686 6.4846 2.686z\" clip-path=\"url(#07e0a145c41)\" fill=\"#eabb1a\" stroke=\"#9c7c12\"/><path d=\"m153.07 43.984c2.4321 0 4.7649-0.96627 6.4846-2.686 1.7197-1.7197 2.686-4.0525 2.686-6.4846s-0.96627-4.7649-2.686-6.4846-4.0525-2.686-6.4846-2.686-4.7649 0.96627-6.4846 2.686c-1.7197 1.7197-2.686 4.0525-2.686 6.4846s0.96627 4.7649 2.686 6.4846c1.7197 1.7197 4.0525 2.686 6.4846 2.686z\" clip-path=\"url(#07e0a145c41)\" fill=\"#d86b00\" stroke=\"#904700\"/><path d=\"m139.53 135.08c2.4321 0 4.7649-0.96627 6.4846-2.686 1.7197-1.7197 2.686-4.0525 2.686-6.4846s-0.96627-4.7649-2.686-6.4846c-1.7197-1.7197-4.0525-2.686-6.4846-2.686s-4.7649 0.96627-6.4846 2.686-2.686 4.0525-2.686 6.4846 0.96627 4.7649 2.686 6.4846 4.0525 2.686 6.4846 2.686z\" clip-path=\"url(#07e0a145c41)\" fill=\"#cc79a7\" stroke=\"#88516f\"/><path d=\"m20.023 32.703c2.4321 0 4.7649-0.96627 6.4846-2.686 1.7197-1.7197 2.686-4.0525 2.686-6.4846s-0.96627-4.7649-2.686-6.4846-4.0525-2.686-6.4846-2.686c-2.4321 0-4.7649 0.96627-6.4846 2.686s-2.686 4.0525-2.686 6.4846 0.96627 4.7649 2.686 6.4846c1.7197 1.7197 4.0525 2.686 6.4846 2.686z\" clip-path=\"url(#07e0a145c41)\" fill=\"none\"/><path d=\"m187.96 122.73c2.4321 0 4.7649-0.96627 6.4846-2.686s2.686-4.0525 2.686-6.4846c0-2.4321-0.96627-4.7649-2.686-6.4846s-4.0525-2.686-6.4846-2.686c-2.4321 0-4.7649 0.96627-6.4846 2.686s-2.686 4.0525-2.686 6.4846c0 2.4321 0.96627 4.7649 2.686 6.4846s4.0525 2.686 6.4846 2.686z\" clip-path=\"url(#07e0a145c41)\" fill=\"none\"/><path d=\"m190.36 194.82c2.4321 0 4.7649-0.96627 6.4846-2.686s2.686-4.0525 2.686-6.4846-0.96627-4.7649-2.686-6.4846c-1.7197-1.7197-4.0525-2.686-6.4846-2.686-2.4321 0-4.7649 0.96627-6.4846 2.686-1.7197 1.7197-2.686 4.0525-2.686 6.4846s0.96627 4.7649 2.686 6.4846 4.0525 2.686 6.4846 2.686z\" clip-path=\"url(#07e0a145c41)\" fill=\"#45b0d1\" stroke=\"#2e758c\"/><path d=\"m214.79 59.763c2.4321 0 4.7649-0.96627 6.4846-2.686 1.7197-1.7197 2.686-4.0525 2.686-6.4846 0-2.4321-0.96627-4.7649-2.686-6.4846-1.7197-1.7197-4.0525-2.686-6.4846-2.686s-4.7649 0.96627-6.4846 2.686-2.686 4.0525-2.686 6.4846c0 2.4321 0.96627 4.7649 2.686 6.4846s4.0525 2.686 6.4846 2.686z\" clip-path=\"url(#07e0a145c41)\" fill=\"#60ba5f\" stroke=\"#407c40\"/><path d=\"m273.38 28.325c2.4321 0 4.7649-0.96627 6.4846-2.686s2.686-4.0525 2.686-6.4846-0.96627-4.7649-2.686-6.4846c-1.7197-1.7197-4.0525-2.686-6.4846-2.686-2.4321 0-4.7649 0.96627-6.4846 2.686-1.7197 1.7197-2.686 4.0525-2.686 6.4846s0.96627 4.7649 2.686 6.4846 4.0525 2.686 6.4846 2.686z\" clip-path=\"url(#07e0a145c41)\" fill=\"none\"/><g transform=\"translate(141.28 72.921) scale(.1 -.1)\" fill=\"#808080\"><defs><path id=\"DejaVuSansMono-30\" transform=\"scale(.015625)\" d=\"m1509 2344q0 172 120 297 121 125 290 125 175 0 300-125t125-297q0-175-124-297-123-122-301-122-175 0-293 119-117 119-117 300zm416 1906q-441 0-658-475t-217-1447q0-969 217-1444t658-475q444 0 661 475t217 1444q0 972-217 1447t-661 475zm0 500q747 0 1130-613 383-612 383-1809 0-1194-383-1807-383-612-1130-612t-1128 612q-381 613-381 1807 0 1197 381 1809 381 613 1128 613z\"/></defs><use xlink:href=\"#DejaVuSansMono-30\"/></g><g transform=\"translate(95.882 127.27) scale(.1 -.1)\" fill=\"#808080\"><defs><path id=\"DejaVuSansMono-33\" transform=\"scale(.015625)\" d=\"m2425 2497q459-122 703-433t244-776q0-644-433-1012-433-367-1198-367-322 0-657 60-334 59-656 172v628q319-166 628-247 310-81 616-81 519 0 797 234t278 675q0 406-278 645t-753 239h-482v519h482q434 0 678 190 244 191 244 532 0 359-227 551-227 193-645 193-278 0-575-63-297-62-622-187v581q378 100 673 150 296 50 524 50 681 0 1089-342t408-908q0-384-215-641-214-256-623-362z\"/></defs><use xlink:href=\"#DejaVuSansMono-33\"/></g><g transform=\"translate(150.06 37.6) scale(.1 -.1)\" fill=\"#808080\"><defs><path id=\"DejaVuSansMono-34\" transform=\"scale(.015625)\" d=\"m2297 4091-1472-2466h1472v2466zm-103 575h731v-3041h622v-512h-622v-1113h-628v1113h-1978v596l1875 2957z\"/></defs><use xlink:href=\"#DejaVuSansMono-34\"/></g><g transform=\"translate(136.52 128.7) scale(.1 -.1)\" fill=\"#808080\"><defs><path id=\"DejaVuSansMono-35\" transform=\"scale(.015625)\" d=\"m647 4666h2362v-532h-1787v-1146q134 50 270 73t274 23q725 0 1150-428t425-1159q0-738-446-1163-445-425-1217-425-372 0-680 50-307 50-551 150v641q287-156 578-233 291-76 594-76 522 0 804 275 283 275 283 781 0 500-292 778t-814 278q-253 0-494-58-240-57-459-173v2344z\"/></defs><use xlink:href=\"#DejaVuSansMono-35\"/></g><g transform=\"translate(17.013 26.318) scale(.1 -.1)\" fill=\"#808080\"><defs><path id=\"DejaVuSansMono-61\" transform=\"scale(.015625)\" d=\"m2194 1759h-191q-503 0-758-177-254-176-254-526 0-315 190-490 191-175 528-175 475 0 747 329 272 330 275 911v128h-537zm1115 238v-1997h-578v519q-184-313-464-462-279-148-679-148-535 0-854 302-318 302-318 808 0 584 392 887t1151 303h772v91q-3 419-213 608-209 189-668 189-294 0-594-85-300-84-584-246v575q319 122 611 182 292 61 567 61 434 0 742-128t499-384q118-156 168-386t50-689z\"/></defs><use xlink:href=\"#DejaVuSansMono-61\"/></g><g transform=\"translate(184.95 116.34) scale(.1 -.1)\" fill=\"#808080\"><defs><path id=\"DejaVuSansMono-62\" transform=\"scale(.015625)\" d=\"m2869 1747q0 669-213 1009-212 341-628 341-419 0-635-342-215-342-215-1008 0-663 215-1007 216-343 635-343 416 0 628 340 213 341 213 1010zm-1691 1306q138 256 380 393 242 138 561 138 631 0 993-486 363-485 363-1339 0-865-364-1358-364-492-998-492-313 0-552 136t-383 396v-441h-575v4863h575v-1810z\"/></defs><use xlink:href=\"#DejaVuSansMono-62\"/></g><g transform=\"translate(187.35 188.44) scale(.1 -.1)\" fill=\"#808080\"><defs><path id=\"DejaVuSansMono-31\" transform=\"scale(.015625)\" d=\"m844 531h981v3566l-1056-238v575l1050 232h631v-4135h969v-531h-2575v531z\"/></defs><use xlink:href=\"#DejaVuSansMono-31\"/></g><g transform=\"translate(211.78 53.379) scale(.1 -.1)\" fill=\"#808080\"><defs><path id=\"DejaVuSansMono-32\" transform=\"scale(.015625)\" d=\"m1166 531h2143v-531h-2834v531q584 616 1021 1088 438 472 604 665 313 382 422 618t109 482q0 391-230 613-229 222-629 222-284 0-597-103-312-103-662-313v638q321 153 632 231t614 78q685 0 1102-364t417-955q0-300-139-600t-451-662q-175-203-508-563-333-359-1014-1075z\"/></defs><use xlink:href=\"#DejaVuSansMono-32\"/></g><g transform=\"translate(270.37 21.94) scale(.1 -.1)\" fill=\"#808080\"><defs><path id=\"DejaVuSansMono-6a\" transform=\"scale(.015625)\" d=\"m1875-63v3116h-991v447h1566v-3563q0-609-280-938-279-330-795-330h-794v487h732q281 0 421 196 141 195 141 585zm0 4926h575v-729h-575v729z\"/></defs><use xlink:href=\"#DejaVuSansMono-6a\"/></g><defs><clipPath id=\"07e0a145c41\"><rect x=\"7.2\" y=\"7.2\" width=\"279\" height=\"190.4\"/></clipPath></defs></svg>"
      ],
      "text/plain": [
       "<Figure size 500x500 with 1 Axes>"
      ]
     },
     "metadata": {
      "needs_background": "light"
     },
     "output_type": "display_data"
    },
    {
     "data": {
      "text/plain": [
       "(<Figure size 500x500 with 1 Axes>, <Axes: >)"
      ]
     },
     "execution_count": 12,
     "metadata": {},
     "output_type": "execute_result"
    }
   ],
   "source": [
    "tree = ctg.array_contract_tree(\n",
    "    inputs, output, shapes=shapes, optimize=\"optimal\"\n",
    ")\n",
    "tree.get_hypergraph().plot()"
   ]
  },
  {
   "cell_type": "markdown",
   "id": "d8e888d4",
   "metadata": {},
   "source": [
    "The high level pairwise contractions can be shown as so:"
   ]
  },
  {
   "cell_type": "code",
   "execution_count": 23,
   "id": "7f654565-45e6-44fe-8f27-394a45035b98",
   "metadata": {},
   "outputs": [
    {
     "name": "stdout",
     "output_type": "stream",
     "text": [
      "\u001b[37m(0) cost: \u001b[39m3.2e+01 \u001b[37mwidths: \u001b[39m2.0,5.0->4.0 \u001b[37mtype: \u001b[39meinsum\n",
      "\u001b[37minputs: \u001b[35m{b}\u001b[31m[i],\u001b[32ma\u001b[35m{b}\u001b[31m[i]\u001b[32mn\u001b[32mo\u001b[39m->\n",
      "\u001b[37moutput: \u001b[35m{b}\u001b[32m(ano)\n",
      "\n",
      "\u001b[37m(1) cost: \u001b[39m6.4e+01 \u001b[37mwidths: \u001b[39m4.0,5.0->5.0 \u001b[37mtype: \u001b[39meinsum\n",
      "\u001b[37minputs: \u001b[35m{ba}\u001b[31m[n]\u001b[34mo,\u001b[35m{ab}\u001b[32md\u001b[31m[n]\u001b[32mh\u001b[39m->\n",
      "\u001b[37moutput: \u001b[35m{ba}\u001b[34mo\u001b[32m(dh)\n",
      "\n",
      "\u001b[37m(2) cost: \u001b[39m7.7e+02 \u001b[37mwidths: \u001b[39m5.0,8.6->7.6 \u001b[37mtype: \u001b[39meinsum\n",
      "\u001b[37minputs: \u001b[35m{ba}\u001b[34mo\u001b[31m[dh],\u001b[35m{ab}\u001b[32mc\u001b[31m[d]\u001b[32me\u001b[32mf\u001b[32mg\u001b[31m[h]\u001b[39m->\n",
      "\u001b[37moutput: \u001b[35m{ba}\u001b[34mo\u001b[32m(cefg)\n",
      "\n",
      "\u001b[37m(3) cost: \u001b[39m1.5e+03 \u001b[37mwidths: \u001b[39m7.6,7.0->8.6 \u001b[37mtype: \u001b[39meinsum\n",
      "\u001b[37minputs: \u001b[35m{ba}\u001b[31m[o]\u001b[34mc\u001b[34me\u001b[34mf\u001b[31m[g],\u001b[35m{ab}\u001b[32mk\u001b[31m[g]\u001b[32ml\u001b[31m[o]\u001b[32mm\u001b[39m->\n",
      "\u001b[37moutput: \u001b[35m{ba}\u001b[34mc\u001b[34me\u001b[34mf\u001b[32m(klm)\n",
      "\n",
      "\u001b[37m(4) cost: \u001b[39m1.2e+03 \u001b[37mwidths: \u001b[39m8.6,9.2->2.6 \u001b[37mtype: \u001b[39mtensordot+perm\n",
      "\u001b[37minputs: \u001b[31m[b]\u001b[34ma\u001b[31m[cefklm],\u001b[31m[b]\u001b[32mj\u001b[31m[cekflm]\u001b[39m->\n",
      "\u001b[37moutput: \u001b[32m(j)\u001b[34ma\n",
      "\n",
      "\u001b[39m\n"
     ]
    }
   ],
   "source": [
    "tree.print_contractions()"
   ]
  },
  {
   "cell_type": "markdown",
   "id": "aa3d8b14",
   "metadata": {},
   "source": [
    "## Tracing the computational graph\n",
    "\n",
    "`cotengra` can also further break each `einsum` call down into *only* (batch) matrix multiplies, reshapes and transposes. To extract these we need two things:\n",
    "\n",
    "1. to trace the contraction with `autoray` lazy arrays.\n",
    "2. to use `implementation=\"cotengra\"` to avoid using a backends `einsum` impl directly."
   ]
  },
  {
   "cell_type": "code",
   "execution_count": 14,
   "id": "4ae680f6-1a8f-4a48-b36d-8f9a465c5ec7",
   "metadata": {},
   "outputs": [],
   "source": [
    "variables = [ar.lazy.Variable(shape, backend=\"numpy\") for shape in shapes]"
   ]
  },
  {
   "cell_type": "code",
   "execution_count": 15,
   "id": "df4fea46-854f-4a14-9357-6c352228760b",
   "metadata": {},
   "outputs": [],
   "source": [
    "lz = tree.contract(\n",
    "    variables,\n",
    "    # make cotengra use its own implementation of einsum/tensordot\n",
    "    # which breaks things down to bmm / reshape / transpose\n",
    "    implementation=\"cotengra\",\n",
    ")"
   ]
  },
  {
   "cell_type": "markdown",
   "id": "660ac484",
   "metadata": {},
   "source": [
    "The remaining things are simply autoray related functionality. Visualize the operataions:"
   ]
  },
  {
   "cell_type": "code",
   "execution_count": 16,
   "id": "bd7c9e22",
   "metadata": {},
   "outputs": [
    {
     "data": {
      "image/svg+xml": [
       "<?xml version=\"1.0\" encoding=\"UTF-8\"?><!DOCTYPE svg  PUBLIC '-//W3C//DTD SVG 1.1//EN'  'http://www.w3.org/Graphics/SVG/1.1/DTD/svg11.dtd'><svg width=\"679.57pt\" height=\"204.86pt\" version=\"1.1\" viewBox=\"0 0 679.57 204.86\" xmlns=\"http://www.w3.org/2000/svg\" xmlns:xlink=\"http://www.w3.org/1999/xlink\"><defs><style type=\"text/css\">*{stroke-linejoin: round; stroke-linecap: butt}</style></defs><path d=\"m0 204.86h679.57v-204.86h-679.57v204.86z\" fill=\"none\"/><path d=\"m16.073 153.29v35.492\" fill=\"none\" stroke=\"#808080\" stroke-dasharray=\"1.272131,2.099017\" stroke-opacity=\".25\" stroke-width=\"1.2721\"/><path d=\"m33.819 153.29v35.492\" fill=\"none\" stroke=\"#d96358\" stroke-dasharray=\"1.272131,2.099017\" stroke-opacity=\".25\" stroke-width=\"1.2721\"/><path d=\"m51.566 153.29v35.492\" fill=\"none\" stroke=\"#cfdb3d\" stroke-dasharray=\"1.272131,2.099017\" stroke-opacity=\".25\" stroke-width=\"1.2721\"/><path d=\"m69.312 153.29v17.746\" fill=\"none\" stroke=\"#808080\" stroke-dasharray=\"1.272131,2.099017\" stroke-opacity=\".25\" stroke-width=\"1.2721\"/><path d=\"m87.058 153.29v17.746\" fill=\"none\" stroke=\"#cfdb3d\" stroke-dasharray=\"1.272131,2.099017\" stroke-opacity=\".25\" stroke-width=\"1.2721\"/><path d=\"m104.8 153.29v35.492\" fill=\"none\" stroke=\"#6bd7c0\" stroke-dasharray=\"1.272131,2.099017\" stroke-opacity=\".25\" stroke-width=\"1.2721\"/><path d=\"m122.55 153.29v35.492\" fill=\"none\" stroke=\"#cfdb3d\" stroke-dasharray=\"1.272131,2.099017\" stroke-opacity=\".25\" stroke-width=\"1.2721\"/><path d=\"m140.3 153.29v35.492\" fill=\"none\" stroke=\"#d96358\" stroke-dasharray=\"1.272131,2.099017\" stroke-opacity=\".25\" stroke-width=\"1.2721\"/><path d=\"m158.04 153.29v35.492\" fill=\"none\" stroke=\"#cfdb3d\" stroke-dasharray=\"1.272131,2.099017\" stroke-opacity=\".25\" stroke-width=\"1.2721\"/><path d=\"m175.79 153.29v17.746\" fill=\"none\" stroke=\"#808080\" stroke-dasharray=\"1.272131,2.099017\" stroke-opacity=\".25\" stroke-width=\"1.2721\"/><path d=\"m193.54 153.29v17.746\" fill=\"none\" stroke=\"#d96358\" stroke-dasharray=\"1.272131,2.099017\" stroke-opacity=\".25\" stroke-width=\"1.2721\"/><path d=\"m211.28 153.29v17.746\" fill=\"none\" stroke=\"#cfdb3d\" stroke-dasharray=\"1.272131,2.099017\" stroke-opacity=\".25\" stroke-width=\"1.2721\"/><path d=\"m229.03 153.29v35.492\" fill=\"none\" stroke=\"#6bd7c0\" stroke-dasharray=\"1.272131,2.099017\" stroke-opacity=\".25\" stroke-width=\"1.2721\"/><path d=\"m246.77 153.29v35.492\" fill=\"none\" stroke=\"#cfdb3d\" stroke-dasharray=\"1.272131,2.099017\" stroke-opacity=\".25\" stroke-width=\"1.2721\"/><path d=\"m264.52 153.29v17.746\" fill=\"none\" stroke=\"#808080\" stroke-dasharray=\"1.272131,2.099017\" stroke-opacity=\".25\" stroke-width=\"1.2721\"/><path d=\"m282.27 153.29v17.746\" fill=\"none\" stroke=\"#d96358\" stroke-dasharray=\"1.272131,2.099017\" stroke-opacity=\".25\" stroke-width=\"1.2721\"/><path d=\"m300.01 153.29v17.746\" fill=\"none\" stroke=\"#cfdb3d\" stroke-dasharray=\"1.272131,2.099017\" stroke-opacity=\".25\" stroke-width=\"1.2721\"/><path d=\"m317.76 153.29v35.492\" fill=\"none\" stroke=\"#6bd7c0\" stroke-dasharray=\"1.272131,2.099017\" stroke-opacity=\".25\" stroke-width=\"1.2721\"/><path d=\"m335.51 153.29v35.492\" fill=\"none\" stroke=\"#cfdb3d\" stroke-dasharray=\"1.272131,2.099017\" stroke-opacity=\".25\" stroke-width=\"1.2721\"/><path d=\"m353.25 153.29v35.492\" fill=\"none\" stroke=\"#d96358\" stroke-dasharray=\"1.272131,2.099017\" stroke-opacity=\".25\" stroke-width=\"1.2721\"/><path d=\"m371 153.29v35.492\" fill=\"none\" stroke=\"#cfdb3d\" stroke-dasharray=\"1.272131,2.099017\" stroke-opacity=\".25\" stroke-width=\"1.2721\"/><path d=\"m388.74 153.29v17.746\" fill=\"none\" stroke=\"#808080\" stroke-dasharray=\"1.272131,2.099017\" stroke-opacity=\".25\" stroke-width=\"1.2721\"/><path d=\"m406.49 153.29v17.746\" fill=\"none\" stroke=\"#d96358\" stroke-dasharray=\"1.272131,2.099017\" stroke-opacity=\".25\" stroke-width=\"1.2721\"/><path d=\"m424.24 153.29v17.746\" fill=\"none\" stroke=\"#cfdb3d\" stroke-dasharray=\"1.272131,2.099017\" stroke-opacity=\".25\" stroke-width=\"1.2721\"/><path d=\"m441.98 153.29v35.492\" fill=\"none\" stroke=\"#6bd7c0\" stroke-dasharray=\"1.272131,2.099017\" stroke-opacity=\".25\" stroke-width=\"1.2721\"/><path d=\"m459.73 153.29v35.492\" fill=\"none\" stroke=\"#cfdb3d\" stroke-dasharray=\"1.272131,2.099017\" stroke-opacity=\".25\" stroke-width=\"1.2721\"/><path d=\"m477.48 153.29v35.492\" fill=\"none\" stroke=\"#d96358\" stroke-dasharray=\"1.272131,2.099017\" stroke-opacity=\".25\" stroke-width=\"1.2721\"/><path d=\"m495.22 153.29v35.492\" fill=\"none\" stroke=\"#cfdb3d\" stroke-dasharray=\"1.272131,2.099017\" stroke-opacity=\".25\" stroke-width=\"1.2721\"/><path d=\"m512.97 153.29v17.746\" fill=\"none\" stroke=\"#808080\" stroke-dasharray=\"1.272131,2.099017\" stroke-opacity=\".25\" stroke-width=\"1.2721\"/><path d=\"m530.71 153.29v17.746\" fill=\"none\" stroke=\"#d96358\" stroke-dasharray=\"1.272131,2.099017\" stroke-opacity=\".25\" stroke-width=\"1.2721\"/><path d=\"m548.46 153.29v17.746\" fill=\"none\" stroke=\"#cfdb3d\" stroke-dasharray=\"1.272131,2.099017\" stroke-opacity=\".25\" stroke-width=\"1.2721\"/><path d=\"m566.21 153.29v35.492\" fill=\"none\" stroke=\"#6bd7c0\" stroke-dasharray=\"1.272131,2.099017\" stroke-opacity=\".25\" stroke-width=\"1.2721\"/><path d=\"m583.95 153.29v35.492\" fill=\"none\" stroke=\"#d96358\" stroke-dasharray=\"1.272131,2.099017\" stroke-opacity=\".25\" stroke-width=\"1.2721\"/><g transform=\"translate(18.472 151.42) rotate(-45) scale(.12721 -.12721)\" fill=\"#808080\"><defs><path id=\"DejaVuSans-2190\" transform=\"scale(.015625)\" d=\"m313 1866v281l1228 1228 375-375-728-728h3809v-531h-3809l728-728-375-375-1228 1228z\"/><path id=\"DejaVuSans-5b\" transform=\"scale(.015625)\" d=\"m550 4863h1325v-447h-750v-4813h750v-447h-1325v5707z\"/><path id=\"DejaVuSans-32\" transform=\"scale(.015625)\" d=\"m1228 531h2203v-531h-2962v531q359 372 979 998 621 627 780 809 303 340 423 576 121 236 121 464 0 372-261 606-261 235-680 235-297 0-627-103-329-103-704-313v638q381 153 712 231 332 78 607 78 725 0 1156-363 431-362 431-968 0-288-108-546-107-257-392-607-78-91-497-524-418-433-1181-1211z\"/><path id=\"DejaVuSans-2c\" transform=\"scale(.015625)\" d=\"m750 794h659v-538l-512-1e3h-403l256 1e3v538z\"/><path id=\"DejaVuSans-5d\" transform=\"scale(.015625)\" d=\"m1947 4863v-5707h-1325v447h747v4813h-747v447h1325z\"/></defs><use xlink:href=\"#DejaVuSans-2190\"/><use x=\"83.789062\" xlink:href=\"#DejaVuSans-5b\"/><use x=\"122.802734\" xlink:href=\"#DejaVuSans-32\"/><use x=\"186.425781\" xlink:href=\"#DejaVuSans-2c\"/><use x=\"218.212891\" xlink:href=\"#DejaVuSans-20\"/><use x=\"250\" xlink:href=\"#DejaVuSans-32\"/><use x=\"313.623047\" xlink:href=\"#DejaVuSans-2c\"/><use x=\"345.410156\" xlink:href=\"#DejaVuSans-20\"/><use x=\"377.197266\" xlink:href=\"#DejaVuSans-32\"/><use x=\"440.820312\" xlink:href=\"#DejaVuSans-2c\"/><use x=\"472.607422\" xlink:href=\"#DejaVuSans-20\"/><use x=\"504.394531\" xlink:href=\"#DejaVuSans-32\"/><use x=\"568.017578\" xlink:href=\"#DejaVuSans-2c\"/><use x=\"599.804688\" xlink:href=\"#DejaVuSans-20\"/><use x=\"631.591797\" xlink:href=\"#DejaVuSans-32\"/><use x=\"695.214844\" xlink:href=\"#DejaVuSans-5d\"/></g><g transform=\"translate(36.218 151.42) rotate(-45) scale(.12721 -.12721)\" fill=\"#d96358\"><defs><path id=\"DejaVuSans-74\" transform=\"scale(.015625)\" d=\"m1172 4494v-994h1184v-447h-1184v-1900q0-428 117-550t477-122h590v-481h-590q-666 0-919 248-253 249-253 905v1900h-422v447h422v994h578z\"/><path id=\"DejaVuSans-72\" transform=\"scale(.015625)\" d=\"m2631 2963q-97 56-211 82-114 27-251 27-488 0-749-317t-261-911v-1844h-578v3500h578v-544q182 319 472 473 291 155 707 155 59 0 131-8 72-7 159-23l3-590z\"/><path id=\"DejaVuSans-61\" transform=\"scale(.015625)\" d=\"m2194 1759q-697 0-966-159t-269-544q0-306 202-486 202-179 548-179 479 0 768 339t289 901v128h-572zm1147 238v-1997h-575v531q-197-318-491-470t-719-152q-537 0-855 302-317 302-317 808 0 590 395 890 396 300 1180 300h807v57q0 397-261 614t-733 217q-300 0-585-72-284-72-546-216v532q315 122 612 182 297 61 578 61 760 0 1135-394 375-393 375-1193z\"/><path id=\"DejaVuSans-6e\" transform=\"scale(.015625)\" d=\"m3513 2113v-2113h-575v2094q0 497-194 743-194 247-581 247-466 0-735-297-269-296-269-809v-1978h-578v3500h578v-544q207 316 486 472 280 156 646 156 603 0 912-373 310-373 310-1098z\"/><path id=\"DejaVuSans-73\" transform=\"scale(.015625)\" d=\"m2834 3397v-544q-243 125-506 187-262 63-544 63-428 0-642-131t-214-394q0-200 153-314t616-217l197-44q612-131 870-370t258-667q0-488-386-773-386-284-1061-284-281 0-586 55t-642 164v594q319-166 628-249 309-82 613-82 406 0 624 139 219 139 219 392 0 234-158 359-157 125-692 241l-200 47q-534 112-772 345-237 233-237 639 0 494 350 762 350 269 994 269 318 0 599-47 282-46 519-140z\"/><path id=\"DejaVuSans-70\" transform=\"scale(.015625)\" d=\"m1159 525v-1856h-578v4831h578v-531q182 312 458 463 277 152 661 152 638 0 1036-506 399-506 399-1331t-399-1332q-398-506-1036-506-384 0-661 152-276 152-458 464zm1957 1222q0 634-261 995t-717 361q-457 0-718-361t-261-995 261-995 718-361q456 0 717 361t261 995z\"/><path id=\"DejaVuSans-6f\" transform=\"scale(.015625)\" d=\"m1959 3097q-462 0-731-361t-269-989 267-989q268-361 733-361 460 0 728 362 269 363 269 988 0 622-269 986-268 364-728 364zm0 487q750 0 1178-488 429-487 429-1349 0-859-429-1349-428-489-1178-489-753 0-1180 489-426 490-426 1349 0 862 426 1349 427 488 1180 488z\"/><path id=\"DejaVuSans-65\" transform=\"scale(.015625)\" d=\"m3597 1894v-281h-2644q38-594 358-905t892-311q331 0 642 81t618 244v-544q-310-131-635-200t-659-69q-838 0-1327 487-489 488-489 1320 0 859 464 1363 464 505 1252 505 706 0 1117-455 411-454 411-1235zm-575 169q-6 471-264 752-258 282-683 282-481 0-770-272t-333-766l2050 4z\"/></defs><use xlink:href=\"#DejaVuSans-74\"/><use x=\"39.208984\" xlink:href=\"#DejaVuSans-72\"/><use x=\"80.322266\" xlink:href=\"#DejaVuSans-61\"/><use x=\"141.601562\" xlink:href=\"#DejaVuSans-6e\"/><use x=\"204.980469\" xlink:href=\"#DejaVuSans-73\"/><use x=\"257.080078\" xlink:href=\"#DejaVuSans-70\"/><use x=\"320.556641\" xlink:href=\"#DejaVuSans-6f\"/><use x=\"381.738281\" xlink:href=\"#DejaVuSans-73\"/><use x=\"433.837891\" xlink:href=\"#DejaVuSans-65\"/><use x=\"495.361328\" xlink:href=\"#DejaVuSans-5b\"/><use x=\"534.375\" xlink:href=\"#DejaVuSans-32\"/><use x=\"597.998047\" xlink:href=\"#DejaVuSans-2c\"/><use x=\"629.785156\" xlink:href=\"#DejaVuSans-20\"/><use x=\"661.572266\" xlink:href=\"#DejaVuSans-32\"/><use x=\"725.195312\" xlink:href=\"#DejaVuSans-2c\"/><use x=\"756.982422\" xlink:href=\"#DejaVuSans-20\"/><use x=\"788.769531\" xlink:href=\"#DejaVuSans-32\"/><use x=\"852.392578\" xlink:href=\"#DejaVuSans-2c\"/><use x=\"884.179688\" xlink:href=\"#DejaVuSans-20\"/><use x=\"915.966797\" xlink:href=\"#DejaVuSans-32\"/><use x=\"979.589844\" xlink:href=\"#DejaVuSans-2c\"/><use x=\"1011.376953\" xlink:href=\"#DejaVuSans-20\"/><use x=\"1043.164062\" xlink:href=\"#DejaVuSans-32\"/><use x=\"1106.787109\" xlink:href=\"#DejaVuSans-5d\"/></g><g transform=\"translate(53.964 151.42) rotate(-45) scale(.12721 -.12721)\" fill=\"#cfdb3d\"><defs><path id=\"DejaVuSans-68\" transform=\"scale(.015625)\" d=\"m3513 2113v-2113h-575v2094q0 497-194 743-194 247-581 247-466 0-735-297-269-296-269-809v-1978h-578v4863h578v-1907q207 316 486 472 280 156 646 156 603 0 912-373 310-373 310-1098z\"/><path id=\"DejaVuSans-38\" transform=\"scale(.015625)\" d=\"m2034 2216q-450 0-708-241-257-241-257-662 0-422 257-663 258-241 708-241t709 242q260 243 260 662 0 421-258 662-257 241-711 241zm-631 268q-406 100-633 378-226 279-226 679 0 559 398 884 399 325 1092 325 697 0 1094-325t397-884q0-400-227-679-226-278-629-378 456-106 710-416 255-309 255-755 0-679-414-1042-414-362-1186-362-771 0-1186 362-414 363-414 1042 0 446 256 755 257 310 713 416zm-231 997q0-362 226-565 227-203 636-203 407 0 636 203 230 203 230 565 0 363-230 566-229 203-636 203-409 0-636-203-226-203-226-566z\"/></defs><use xlink:href=\"#DejaVuSans-72\"/><use x=\"38.863281\" xlink:href=\"#DejaVuSans-65\"/><use x=\"100.386719\" xlink:href=\"#DejaVuSans-73\"/><use x=\"152.486328\" xlink:href=\"#DejaVuSans-68\"/><use x=\"215.865234\" xlink:href=\"#DejaVuSans-61\"/><use x=\"277.144531\" xlink:href=\"#DejaVuSans-70\"/><use x=\"340.621094\" xlink:href=\"#DejaVuSans-65\"/><use x=\"402.144531\" xlink:href=\"#DejaVuSans-5b\"/><use x=\"441.158203\" xlink:href=\"#DejaVuSans-32\"/><use x=\"504.78125\" xlink:href=\"#DejaVuSans-2c\"/><use x=\"536.568359\" xlink:href=\"#DejaVuSans-20\"/><use x=\"568.355469\" xlink:href=\"#DejaVuSans-32\"/><use x=\"631.978516\" xlink:href=\"#DejaVuSans-2c\"/><use x=\"663.765625\" xlink:href=\"#DejaVuSans-20\"/><use x=\"695.552734\" xlink:href=\"#DejaVuSans-38\"/><use x=\"759.175781\" xlink:href=\"#DejaVuSans-5d\"/></g><g transform=\"translate(71.71 151.42) rotate(-45) scale(.12721 -.12721)\" fill=\"#808080\"><use xlink:href=\"#DejaVuSans-2190\"/><use x=\"83.789062\" xlink:href=\"#DejaVuSans-5b\"/><use x=\"122.802734\" xlink:href=\"#DejaVuSans-32\"/><use x=\"186.425781\" xlink:href=\"#DejaVuSans-2c\"/><use x=\"218.212891\" xlink:href=\"#DejaVuSans-20\"/><use x=\"250\" xlink:href=\"#DejaVuSans-32\"/><use x=\"313.623047\" xlink:href=\"#DejaVuSans-5d\"/></g><g transform=\"translate(89.457 151.42) rotate(-45) scale(.12721 -.12721)\" fill=\"#cfdb3d\"><defs><path id=\"DejaVuSans-31\" transform=\"scale(.015625)\" d=\"m794 531h1031v3560l-1122-225v575l1116 225h631v-4135h1031v-531h-2687v531z\"/></defs><use xlink:href=\"#DejaVuSans-72\"/><use x=\"38.863281\" xlink:href=\"#DejaVuSans-65\"/><use x=\"100.386719\" xlink:href=\"#DejaVuSans-73\"/><use x=\"152.486328\" xlink:href=\"#DejaVuSans-68\"/><use x=\"215.865234\" xlink:href=\"#DejaVuSans-61\"/><use x=\"277.144531\" xlink:href=\"#DejaVuSans-70\"/><use x=\"340.621094\" xlink:href=\"#DejaVuSans-65\"/><use x=\"402.144531\" xlink:href=\"#DejaVuSans-5b\"/><use x=\"441.158203\" xlink:href=\"#DejaVuSans-32\"/><use x=\"504.78125\" xlink:href=\"#DejaVuSans-2c\"/><use x=\"536.568359\" xlink:href=\"#DejaVuSans-20\"/><use x=\"568.355469\" xlink:href=\"#DejaVuSans-31\"/><use x=\"631.978516\" xlink:href=\"#DejaVuSans-2c\"/><use x=\"663.765625\" xlink:href=\"#DejaVuSans-20\"/><use x=\"695.552734\" xlink:href=\"#DejaVuSans-32\"/><use x=\"759.175781\" xlink:href=\"#DejaVuSans-5d\"/></g><g transform=\"translate(107.2 151.42) rotate(-45) scale(.12721 -.12721)\" fill=\"#6bd7c0\"><defs><path id=\"DejaVuSans-6d\" transform=\"scale(.015625)\" d=\"m3328 2828q216 388 516 572t706 184q547 0 844-383 297-382 297-1088v-2113h-578v2094q0 503-179 746-178 244-543 244-447 0-707-297-259-296-259-809v-1978h-578v2094q0 506-178 748t-550 242q-441 0-701-298-259-298-259-808v-1978h-578v3500h578v-544q197 322 472 475t653 153q382 0 649-194 267-193 395-562z\"/><path id=\"DejaVuSans-75\" transform=\"scale(.015625)\" d=\"m544 1381v2119h575v-2097q0-497 193-746 194-248 582-248 465 0 735 297 271 297 271 810v1984h575v-3500h-575v538q-209-319-486-474-276-155-642-155-603 0-916 375-312 375-312 1097zm1447 2203z\"/><path id=\"DejaVuSans-6c\" transform=\"scale(.015625)\" d=\"m603 4863h575v-4863h-575v4863z\"/></defs><use xlink:href=\"#DejaVuSans-6d\"/><use x=\"97.412109\" xlink:href=\"#DejaVuSans-61\"/><use x=\"158.691406\" xlink:href=\"#DejaVuSans-74\"/><use x=\"197.900391\" xlink:href=\"#DejaVuSans-6d\"/><use x=\"295.3125\" xlink:href=\"#DejaVuSans-75\"/><use x=\"358.691406\" xlink:href=\"#DejaVuSans-6c\"/><use x=\"386.474609\" xlink:href=\"#DejaVuSans-5b\"/><use x=\"425.488281\" xlink:href=\"#DejaVuSans-32\"/><use x=\"489.111328\" xlink:href=\"#DejaVuSans-2c\"/><use x=\"520.898438\" xlink:href=\"#DejaVuSans-20\"/><use x=\"552.685547\" xlink:href=\"#DejaVuSans-31\"/><use x=\"616.308594\" xlink:href=\"#DejaVuSans-2c\"/><use x=\"648.095703\" xlink:href=\"#DejaVuSans-20\"/><use x=\"679.882812\" xlink:href=\"#DejaVuSans-38\"/><use x=\"743.505859\" xlink:href=\"#DejaVuSans-5d\"/></g><g transform=\"translate(124.95 151.42) rotate(-45) scale(.12721 -.12721)\" fill=\"#cfdb3d\"><use xlink:href=\"#DejaVuSans-72\"/><use x=\"38.863281\" xlink:href=\"#DejaVuSans-65\"/><use x=\"100.386719\" xlink:href=\"#DejaVuSans-73\"/><use x=\"152.486328\" xlink:href=\"#DejaVuSans-68\"/><use x=\"215.865234\" xlink:href=\"#DejaVuSans-61\"/><use x=\"277.144531\" xlink:href=\"#DejaVuSans-70\"/><use x=\"340.621094\" xlink:href=\"#DejaVuSans-65\"/><use x=\"402.144531\" xlink:href=\"#DejaVuSans-5b\"/><use x=\"441.158203\" xlink:href=\"#DejaVuSans-32\"/><use x=\"504.78125\" xlink:href=\"#DejaVuSans-2c\"/><use x=\"536.568359\" xlink:href=\"#DejaVuSans-20\"/><use x=\"568.355469\" xlink:href=\"#DejaVuSans-32\"/><use x=\"631.978516\" xlink:href=\"#DejaVuSans-2c\"/><use x=\"663.765625\" xlink:href=\"#DejaVuSans-20\"/><use x=\"695.552734\" xlink:href=\"#DejaVuSans-32\"/><use x=\"759.175781\" xlink:href=\"#DejaVuSans-2c\"/><use x=\"790.962891\" xlink:href=\"#DejaVuSans-20\"/><use x=\"822.75\" xlink:href=\"#DejaVuSans-32\"/><use x=\"886.373047\" xlink:href=\"#DejaVuSans-5d\"/></g><g transform=\"translate(142.7 151.42) rotate(-45) scale(.12721 -.12721)\" fill=\"#d96358\"><use xlink:href=\"#DejaVuSans-74\"/><use x=\"39.208984\" xlink:href=\"#DejaVuSans-72\"/><use x=\"80.322266\" xlink:href=\"#DejaVuSans-61\"/><use x=\"141.601562\" xlink:href=\"#DejaVuSans-6e\"/><use x=\"204.980469\" xlink:href=\"#DejaVuSans-73\"/><use x=\"257.080078\" xlink:href=\"#DejaVuSans-70\"/><use x=\"320.556641\" xlink:href=\"#DejaVuSans-6f\"/><use x=\"381.738281\" xlink:href=\"#DejaVuSans-73\"/><use x=\"433.837891\" xlink:href=\"#DejaVuSans-65\"/><use x=\"495.361328\" xlink:href=\"#DejaVuSans-5b\"/><use x=\"534.375\" xlink:href=\"#DejaVuSans-32\"/><use x=\"597.998047\" xlink:href=\"#DejaVuSans-2c\"/><use x=\"629.785156\" xlink:href=\"#DejaVuSans-20\"/><use x=\"661.572266\" xlink:href=\"#DejaVuSans-32\"/><use x=\"725.195312\" xlink:href=\"#DejaVuSans-2c\"/><use x=\"756.982422\" xlink:href=\"#DejaVuSans-20\"/><use x=\"788.769531\" xlink:href=\"#DejaVuSans-32\"/><use x=\"852.392578\" xlink:href=\"#DejaVuSans-2c\"/><use x=\"884.179688\" xlink:href=\"#DejaVuSans-20\"/><use x=\"915.966797\" xlink:href=\"#DejaVuSans-32\"/><use x=\"979.589844\" xlink:href=\"#DejaVuSans-5d\"/></g><g transform=\"translate(160.44 151.42) rotate(-45) scale(.12721 -.12721)\" fill=\"#cfdb3d\"><defs><path id=\"DejaVuSans-34\" transform=\"scale(.015625)\" d=\"m2419 4116-1594-2491h1594v2491zm-166 550h794v-3041h666v-525h-666v-1100h-628v1100h-2106v609l1940 2957z\"/></defs><use xlink:href=\"#DejaVuSans-72\"/><use x=\"38.863281\" xlink:href=\"#DejaVuSans-65\"/><use x=\"100.386719\" xlink:href=\"#DejaVuSans-73\"/><use x=\"152.486328\" xlink:href=\"#DejaVuSans-68\"/><use x=\"215.865234\" xlink:href=\"#DejaVuSans-61\"/><use x=\"277.144531\" xlink:href=\"#DejaVuSans-70\"/><use x=\"340.621094\" xlink:href=\"#DejaVuSans-65\"/><use x=\"402.144531\" xlink:href=\"#DejaVuSans-5b\"/><use x=\"441.158203\" xlink:href=\"#DejaVuSans-34\"/><use x=\"504.78125\" xlink:href=\"#DejaVuSans-2c\"/><use x=\"536.568359\" xlink:href=\"#DejaVuSans-20\"/><use x=\"568.355469\" xlink:href=\"#DejaVuSans-32\"/><use x=\"631.978516\" xlink:href=\"#DejaVuSans-2c\"/><use x=\"663.765625\" xlink:href=\"#DejaVuSans-20\"/><use x=\"695.552734\" xlink:href=\"#DejaVuSans-32\"/><use x=\"759.175781\" xlink:href=\"#DejaVuSans-5d\"/></g><g transform=\"translate(178.19 151.42) rotate(-45) scale(.12721 -.12721)\" fill=\"#808080\"><use xlink:href=\"#DejaVuSans-2190\"/><use x=\"83.789062\" xlink:href=\"#DejaVuSans-5b\"/><use x=\"122.802734\" xlink:href=\"#DejaVuSans-32\"/><use x=\"186.425781\" xlink:href=\"#DejaVuSans-2c\"/><use x=\"218.212891\" xlink:href=\"#DejaVuSans-20\"/><use x=\"250\" xlink:href=\"#DejaVuSans-32\"/><use x=\"313.623047\" xlink:href=\"#DejaVuSans-2c\"/><use x=\"345.410156\" xlink:href=\"#DejaVuSans-20\"/><use x=\"377.197266\" xlink:href=\"#DejaVuSans-32\"/><use x=\"440.820312\" xlink:href=\"#DejaVuSans-2c\"/><use x=\"472.607422\" xlink:href=\"#DejaVuSans-20\"/><use x=\"504.394531\" xlink:href=\"#DejaVuSans-32\"/><use x=\"568.017578\" xlink:href=\"#DejaVuSans-2c\"/><use x=\"599.804688\" xlink:href=\"#DejaVuSans-20\"/><use x=\"631.591797\" xlink:href=\"#DejaVuSans-32\"/><use x=\"695.214844\" xlink:href=\"#DejaVuSans-5d\"/></g><g transform=\"translate(195.93 151.42) rotate(-45) scale(.12721 -.12721)\" fill=\"#d96358\"><use xlink:href=\"#DejaVuSans-74\"/><use x=\"39.208984\" xlink:href=\"#DejaVuSans-72\"/><use x=\"80.322266\" xlink:href=\"#DejaVuSans-61\"/><use x=\"141.601562\" xlink:href=\"#DejaVuSans-6e\"/><use x=\"204.980469\" xlink:href=\"#DejaVuSans-73\"/><use x=\"257.080078\" xlink:href=\"#DejaVuSans-70\"/><use x=\"320.556641\" xlink:href=\"#DejaVuSans-6f\"/><use x=\"381.738281\" xlink:href=\"#DejaVuSans-73\"/><use x=\"433.837891\" xlink:href=\"#DejaVuSans-65\"/><use x=\"495.361328\" xlink:href=\"#DejaVuSans-5b\"/><use x=\"534.375\" xlink:href=\"#DejaVuSans-32\"/><use x=\"597.998047\" xlink:href=\"#DejaVuSans-2c\"/><use x=\"629.785156\" xlink:href=\"#DejaVuSans-20\"/><use x=\"661.572266\" xlink:href=\"#DejaVuSans-32\"/><use x=\"725.195312\" xlink:href=\"#DejaVuSans-2c\"/><use x=\"756.982422\" xlink:href=\"#DejaVuSans-20\"/><use x=\"788.769531\" xlink:href=\"#DejaVuSans-32\"/><use x=\"852.392578\" xlink:href=\"#DejaVuSans-2c\"/><use x=\"884.179688\" xlink:href=\"#DejaVuSans-20\"/><use x=\"915.966797\" xlink:href=\"#DejaVuSans-32\"/><use x=\"979.589844\" xlink:href=\"#DejaVuSans-2c\"/><use x=\"1011.376953\" xlink:href=\"#DejaVuSans-20\"/><use x=\"1043.164062\" xlink:href=\"#DejaVuSans-32\"/><use x=\"1106.787109\" xlink:href=\"#DejaVuSans-5d\"/></g><g transform=\"translate(213.68 151.42) rotate(-45) scale(.12721 -.12721)\" fill=\"#cfdb3d\"><use xlink:href=\"#DejaVuSans-72\"/><use x=\"38.863281\" xlink:href=\"#DejaVuSans-65\"/><use x=\"100.386719\" xlink:href=\"#DejaVuSans-73\"/><use x=\"152.486328\" xlink:href=\"#DejaVuSans-68\"/><use x=\"215.865234\" xlink:href=\"#DejaVuSans-61\"/><use x=\"277.144531\" xlink:href=\"#DejaVuSans-70\"/><use x=\"340.621094\" xlink:href=\"#DejaVuSans-65\"/><use x=\"402.144531\" xlink:href=\"#DejaVuSans-5b\"/><use x=\"441.158203\" xlink:href=\"#DejaVuSans-34\"/><use x=\"504.78125\" xlink:href=\"#DejaVuSans-2c\"/><use x=\"536.568359\" xlink:href=\"#DejaVuSans-20\"/><use x=\"568.355469\" xlink:href=\"#DejaVuSans-32\"/><use x=\"631.978516\" xlink:href=\"#DejaVuSans-2c\"/><use x=\"663.765625\" xlink:href=\"#DejaVuSans-20\"/><use x=\"695.552734\" xlink:href=\"#DejaVuSans-34\"/><use x=\"759.175781\" xlink:href=\"#DejaVuSans-5d\"/></g><g transform=\"translate(231.43 151.42) rotate(-45) scale(.12721 -.12721)\" fill=\"#6bd7c0\"><use xlink:href=\"#DejaVuSans-6d\"/><use x=\"97.412109\" xlink:href=\"#DejaVuSans-61\"/><use x=\"158.691406\" xlink:href=\"#DejaVuSans-74\"/><use x=\"197.900391\" xlink:href=\"#DejaVuSans-6d\"/><use x=\"295.3125\" xlink:href=\"#DejaVuSans-75\"/><use x=\"358.691406\" xlink:href=\"#DejaVuSans-6c\"/><use x=\"386.474609\" xlink:href=\"#DejaVuSans-5b\"/><use x=\"425.488281\" xlink:href=\"#DejaVuSans-34\"/><use x=\"489.111328\" xlink:href=\"#DejaVuSans-2c\"/><use x=\"520.898438\" xlink:href=\"#DejaVuSans-20\"/><use x=\"552.685547\" xlink:href=\"#DejaVuSans-32\"/><use x=\"616.308594\" xlink:href=\"#DejaVuSans-2c\"/><use x=\"648.095703\" xlink:href=\"#DejaVuSans-20\"/><use x=\"679.882812\" xlink:href=\"#DejaVuSans-34\"/><use x=\"743.505859\" xlink:href=\"#DejaVuSans-5d\"/></g><g transform=\"translate(249.17 151.42) rotate(-45) scale(.12721 -.12721)\" fill=\"#cfdb3d\"><use xlink:href=\"#DejaVuSans-72\"/><use x=\"38.863281\" xlink:href=\"#DejaVuSans-65\"/><use x=\"100.386719\" xlink:href=\"#DejaVuSans-73\"/><use x=\"152.486328\" xlink:href=\"#DejaVuSans-68\"/><use x=\"215.865234\" xlink:href=\"#DejaVuSans-61\"/><use x=\"277.144531\" xlink:href=\"#DejaVuSans-70\"/><use x=\"340.621094\" xlink:href=\"#DejaVuSans-65\"/><use x=\"402.144531\" xlink:href=\"#DejaVuSans-5b\"/><use x=\"441.158203\" xlink:href=\"#DejaVuSans-34\"/><use x=\"504.78125\" xlink:href=\"#DejaVuSans-2c\"/><use x=\"536.568359\" xlink:href=\"#DejaVuSans-20\"/><use x=\"568.355469\" xlink:href=\"#DejaVuSans-32\"/><use x=\"631.978516\" xlink:href=\"#DejaVuSans-2c\"/><use x=\"663.765625\" xlink:href=\"#DejaVuSans-20\"/><use x=\"695.552734\" xlink:href=\"#DejaVuSans-34\"/><use x=\"759.175781\" xlink:href=\"#DejaVuSans-5d\"/></g><g transform=\"translate(266.92 151.42) rotate(-45) scale(.12721 -.12721)\" fill=\"#808080\"><defs><path id=\"DejaVuSans-33\" transform=\"scale(.015625)\" d=\"m2597 2516q453-97 707-404 255-306 255-756 0-690-475-1069-475-378-1350-378-293 0-604 58t-642 174v609q262-153 574-231 313-78 654-78 593 0 904 234t311 681q0 413-289 645-289 233-804 233h-544v519h569q465 0 712 186t247 536q0 359-255 551-254 193-729 193-260 0-557-57-297-56-653-174v562q360 100 674 150t592 50q719 0 1137-327 419-326 419-882 0-388-222-655t-631-370z\"/></defs><use xlink:href=\"#DejaVuSans-2190\"/><use x=\"83.789062\" xlink:href=\"#DejaVuSans-5b\"/><use x=\"122.802734\" xlink:href=\"#DejaVuSans-32\"/><use x=\"186.425781\" xlink:href=\"#DejaVuSans-2c\"/><use x=\"218.212891\" xlink:href=\"#DejaVuSans-20\"/><use x=\"250\" xlink:href=\"#DejaVuSans-32\"/><use x=\"313.623047\" xlink:href=\"#DejaVuSans-2c\"/><use x=\"345.410156\" xlink:href=\"#DejaVuSans-20\"/><use x=\"377.197266\" xlink:href=\"#DejaVuSans-32\"/><use x=\"440.820312\" xlink:href=\"#DejaVuSans-2c\"/><use x=\"472.607422\" xlink:href=\"#DejaVuSans-20\"/><use x=\"504.394531\" xlink:href=\"#DejaVuSans-32\"/><use x=\"568.017578\" xlink:href=\"#DejaVuSans-2c\"/><use x=\"599.804688\" xlink:href=\"#DejaVuSans-20\"/><use x=\"631.591797\" xlink:href=\"#DejaVuSans-32\"/><use x=\"695.214844\" xlink:href=\"#DejaVuSans-2c\"/><use x=\"727.001953\" xlink:href=\"#DejaVuSans-20\"/><use x=\"758.789062\" xlink:href=\"#DejaVuSans-33\"/><use x=\"822.412109\" xlink:href=\"#DejaVuSans-2c\"/><use x=\"854.199219\" xlink:href=\"#DejaVuSans-20\"/><use x=\"885.986328\" xlink:href=\"#DejaVuSans-32\"/><use x=\"949.609375\" xlink:href=\"#DejaVuSans-2c\"/><use x=\"981.396484\" xlink:href=\"#DejaVuSans-20\"/><use x=\"1013.183594\" xlink:href=\"#DejaVuSans-32\"/><use x=\"1076.806641\" xlink:href=\"#DejaVuSans-5d\"/></g><g transform=\"translate(284.67 151.42) rotate(-45) scale(.12721 -.12721)\" fill=\"#d96358\"><use xlink:href=\"#DejaVuSans-74\"/><use x=\"39.208984\" xlink:href=\"#DejaVuSans-72\"/><use x=\"80.322266\" xlink:href=\"#DejaVuSans-61\"/><use x=\"141.601562\" xlink:href=\"#DejaVuSans-6e\"/><use x=\"204.980469\" xlink:href=\"#DejaVuSans-73\"/><use x=\"257.080078\" xlink:href=\"#DejaVuSans-70\"/><use x=\"320.556641\" xlink:href=\"#DejaVuSans-6f\"/><use x=\"381.738281\" xlink:href=\"#DejaVuSans-73\"/><use x=\"433.837891\" xlink:href=\"#DejaVuSans-65\"/><use x=\"495.361328\" xlink:href=\"#DejaVuSans-5b\"/><use x=\"534.375\" xlink:href=\"#DejaVuSans-32\"/><use x=\"597.998047\" xlink:href=\"#DejaVuSans-2c\"/><use x=\"629.785156\" xlink:href=\"#DejaVuSans-20\"/><use x=\"661.572266\" xlink:href=\"#DejaVuSans-32\"/><use x=\"725.195312\" xlink:href=\"#DejaVuSans-2c\"/><use x=\"756.982422\" xlink:href=\"#DejaVuSans-20\"/><use x=\"788.769531\" xlink:href=\"#DejaVuSans-32\"/><use x=\"852.392578\" xlink:href=\"#DejaVuSans-2c\"/><use x=\"884.179688\" xlink:href=\"#DejaVuSans-20\"/><use x=\"915.966797\" xlink:href=\"#DejaVuSans-32\"/><use x=\"979.589844\" xlink:href=\"#DejaVuSans-2c\"/><use x=\"1011.376953\" xlink:href=\"#DejaVuSans-20\"/><use x=\"1043.164062\" xlink:href=\"#DejaVuSans-32\"/><use x=\"1106.787109\" xlink:href=\"#DejaVuSans-2c\"/><use x=\"1138.574219\" xlink:href=\"#DejaVuSans-20\"/><use x=\"1170.361328\" xlink:href=\"#DejaVuSans-32\"/><use x=\"1233.984375\" xlink:href=\"#DejaVuSans-2c\"/><use x=\"1265.771484\" xlink:href=\"#DejaVuSans-20\"/><use x=\"1297.558594\" xlink:href=\"#DejaVuSans-33\"/><use x=\"1361.181641\" xlink:href=\"#DejaVuSans-2c\"/><use x=\"1392.96875\" xlink:href=\"#DejaVuSans-20\"/><use x=\"1424.755859\" xlink:href=\"#DejaVuSans-32\"/><use x=\"1488.378906\" xlink:href=\"#DejaVuSans-5d\"/></g><g transform=\"translate(302.41 151.42) rotate(-45) scale(.12721 -.12721)\" fill=\"#cfdb3d\"><use xlink:href=\"#DejaVuSans-72\"/><use x=\"38.863281\" xlink:href=\"#DejaVuSans-65\"/><use x=\"100.386719\" xlink:href=\"#DejaVuSans-73\"/><use x=\"152.486328\" xlink:href=\"#DejaVuSans-68\"/><use x=\"215.865234\" xlink:href=\"#DejaVuSans-61\"/><use x=\"277.144531\" xlink:href=\"#DejaVuSans-70\"/><use x=\"340.621094\" xlink:href=\"#DejaVuSans-65\"/><use x=\"402.144531\" xlink:href=\"#DejaVuSans-5b\"/><use x=\"441.158203\" xlink:href=\"#DejaVuSans-34\"/><use x=\"504.78125\" xlink:href=\"#DejaVuSans-2c\"/><use x=\"536.568359\" xlink:href=\"#DejaVuSans-20\"/><use x=\"568.355469\" xlink:href=\"#DejaVuSans-34\"/><use x=\"631.978516\" xlink:href=\"#DejaVuSans-2c\"/><use x=\"663.765625\" xlink:href=\"#DejaVuSans-20\"/><use x=\"695.552734\" xlink:href=\"#DejaVuSans-32\"/><use x=\"759.175781\" xlink:href=\"#DejaVuSans-34\"/><use x=\"822.798828\" xlink:href=\"#DejaVuSans-5d\"/></g><g transform=\"translate(320.16 151.42) rotate(-45) scale(.12721 -.12721)\" fill=\"#6bd7c0\"><use xlink:href=\"#DejaVuSans-6d\"/><use x=\"97.412109\" xlink:href=\"#DejaVuSans-61\"/><use x=\"158.691406\" xlink:href=\"#DejaVuSans-74\"/><use x=\"197.900391\" xlink:href=\"#DejaVuSans-6d\"/><use x=\"295.3125\" xlink:href=\"#DejaVuSans-75\"/><use x=\"358.691406\" xlink:href=\"#DejaVuSans-6c\"/><use x=\"386.474609\" xlink:href=\"#DejaVuSans-5b\"/><use x=\"425.488281\" xlink:href=\"#DejaVuSans-34\"/><use x=\"489.111328\" xlink:href=\"#DejaVuSans-2c\"/><use x=\"520.898438\" xlink:href=\"#DejaVuSans-20\"/><use x=\"552.685547\" xlink:href=\"#DejaVuSans-32\"/><use x=\"616.308594\" xlink:href=\"#DejaVuSans-2c\"/><use x=\"648.095703\" xlink:href=\"#DejaVuSans-20\"/><use x=\"679.882812\" xlink:href=\"#DejaVuSans-32\"/><use x=\"743.505859\" xlink:href=\"#DejaVuSans-34\"/><use x=\"807.128906\" xlink:href=\"#DejaVuSans-5d\"/></g><g transform=\"translate(337.9 151.42) rotate(-45) scale(.12721 -.12721)\" fill=\"#cfdb3d\"><use xlink:href=\"#DejaVuSans-72\"/><use x=\"38.863281\" xlink:href=\"#DejaVuSans-65\"/><use x=\"100.386719\" xlink:href=\"#DejaVuSans-73\"/><use x=\"152.486328\" xlink:href=\"#DejaVuSans-68\"/><use x=\"215.865234\" xlink:href=\"#DejaVuSans-61\"/><use x=\"277.144531\" xlink:href=\"#DejaVuSans-70\"/><use x=\"340.621094\" xlink:href=\"#DejaVuSans-65\"/><use x=\"402.144531\" xlink:href=\"#DejaVuSans-5b\"/><use x=\"441.158203\" xlink:href=\"#DejaVuSans-32\"/><use x=\"504.78125\" xlink:href=\"#DejaVuSans-2c\"/><use x=\"536.568359\" xlink:href=\"#DejaVuSans-20\"/><use x=\"568.355469\" xlink:href=\"#DejaVuSans-32\"/><use x=\"631.978516\" xlink:href=\"#DejaVuSans-2c\"/><use x=\"663.765625\" xlink:href=\"#DejaVuSans-20\"/><use x=\"695.552734\" xlink:href=\"#DejaVuSans-32\"/><use x=\"759.175781\" xlink:href=\"#DejaVuSans-2c\"/><use x=\"790.962891\" xlink:href=\"#DejaVuSans-20\"/><use x=\"822.75\" xlink:href=\"#DejaVuSans-32\"/><use x=\"886.373047\" xlink:href=\"#DejaVuSans-2c\"/><use x=\"918.160156\" xlink:href=\"#DejaVuSans-20\"/><use x=\"949.947266\" xlink:href=\"#DejaVuSans-32\"/><use x=\"1013.570312\" xlink:href=\"#DejaVuSans-2c\"/><use x=\"1045.357422\" xlink:href=\"#DejaVuSans-20\"/><use x=\"1077.144531\" xlink:href=\"#DejaVuSans-33\"/><use x=\"1140.767578\" xlink:href=\"#DejaVuSans-2c\"/><use x=\"1172.554688\" xlink:href=\"#DejaVuSans-20\"/><use x=\"1204.341797\" xlink:href=\"#DejaVuSans-32\"/><use x=\"1267.964844\" xlink:href=\"#DejaVuSans-5d\"/></g><g transform=\"translate(355.65 151.42) rotate(-45) scale(.12721 -.12721)\" fill=\"#d96358\"><use xlink:href=\"#DejaVuSans-74\"/><use x=\"39.208984\" xlink:href=\"#DejaVuSans-72\"/><use x=\"80.322266\" xlink:href=\"#DejaVuSans-61\"/><use x=\"141.601562\" xlink:href=\"#DejaVuSans-6e\"/><use x=\"204.980469\" xlink:href=\"#DejaVuSans-73\"/><use x=\"257.080078\" xlink:href=\"#DejaVuSans-70\"/><use x=\"320.556641\" xlink:href=\"#DejaVuSans-6f\"/><use x=\"381.738281\" xlink:href=\"#DejaVuSans-73\"/><use x=\"433.837891\" xlink:href=\"#DejaVuSans-65\"/><use x=\"495.361328\" xlink:href=\"#DejaVuSans-5b\"/><use x=\"534.375\" xlink:href=\"#DejaVuSans-32\"/><use x=\"597.998047\" xlink:href=\"#DejaVuSans-2c\"/><use x=\"629.785156\" xlink:href=\"#DejaVuSans-20\"/><use x=\"661.572266\" xlink:href=\"#DejaVuSans-32\"/><use x=\"725.195312\" xlink:href=\"#DejaVuSans-2c\"/><use x=\"756.982422\" xlink:href=\"#DejaVuSans-20\"/><use x=\"788.769531\" xlink:href=\"#DejaVuSans-32\"/><use x=\"852.392578\" xlink:href=\"#DejaVuSans-2c\"/><use x=\"884.179688\" xlink:href=\"#DejaVuSans-20\"/><use x=\"915.966797\" xlink:href=\"#DejaVuSans-32\"/><use x=\"979.589844\" xlink:href=\"#DejaVuSans-2c\"/><use x=\"1011.376953\" xlink:href=\"#DejaVuSans-20\"/><use x=\"1043.164062\" xlink:href=\"#DejaVuSans-33\"/><use x=\"1106.787109\" xlink:href=\"#DejaVuSans-2c\"/><use x=\"1138.574219\" xlink:href=\"#DejaVuSans-20\"/><use x=\"1170.361328\" xlink:href=\"#DejaVuSans-32\"/><use x=\"1233.984375\" xlink:href=\"#DejaVuSans-2c\"/><use x=\"1265.771484\" xlink:href=\"#DejaVuSans-20\"/><use x=\"1297.558594\" xlink:href=\"#DejaVuSans-32\"/><use x=\"1361.181641\" xlink:href=\"#DejaVuSans-5d\"/></g><g transform=\"translate(373.4 151.42) rotate(-45) scale(.12721 -.12721)\" fill=\"#cfdb3d\"><use xlink:href=\"#DejaVuSans-72\"/><use x=\"38.863281\" xlink:href=\"#DejaVuSans-65\"/><use x=\"100.386719\" xlink:href=\"#DejaVuSans-73\"/><use x=\"152.486328\" xlink:href=\"#DejaVuSans-68\"/><use x=\"215.865234\" xlink:href=\"#DejaVuSans-61\"/><use x=\"277.144531\" xlink:href=\"#DejaVuSans-70\"/><use x=\"340.621094\" xlink:href=\"#DejaVuSans-65\"/><use x=\"402.144531\" xlink:href=\"#DejaVuSans-5b\"/><use x=\"441.158203\" xlink:href=\"#DejaVuSans-34\"/><use x=\"504.78125\" xlink:href=\"#DejaVuSans-2c\"/><use x=\"536.568359\" xlink:href=\"#DejaVuSans-20\"/><use x=\"568.355469\" xlink:href=\"#DejaVuSans-31\"/><use x=\"631.978516\" xlink:href=\"#DejaVuSans-32\"/><use x=\"695.601562\" xlink:href=\"#DejaVuSans-2c\"/><use x=\"727.388672\" xlink:href=\"#DejaVuSans-20\"/><use x=\"759.175781\" xlink:href=\"#DejaVuSans-34\"/><use x=\"822.798828\" xlink:href=\"#DejaVuSans-5d\"/></g><g transform=\"translate(391.14 151.42) rotate(-45) scale(.12721 -.12721)\" fill=\"#808080\"><use xlink:href=\"#DejaVuSans-2190\"/><use x=\"83.789062\" xlink:href=\"#DejaVuSans-5b\"/><use x=\"122.802734\" xlink:href=\"#DejaVuSans-32\"/><use x=\"186.425781\" xlink:href=\"#DejaVuSans-2c\"/><use x=\"218.212891\" xlink:href=\"#DejaVuSans-20\"/><use x=\"250\" xlink:href=\"#DejaVuSans-32\"/><use x=\"313.623047\" xlink:href=\"#DejaVuSans-2c\"/><use x=\"345.410156\" xlink:href=\"#DejaVuSans-20\"/><use x=\"377.197266\" xlink:href=\"#DejaVuSans-32\"/><use x=\"440.820312\" xlink:href=\"#DejaVuSans-2c\"/><use x=\"472.607422\" xlink:href=\"#DejaVuSans-20\"/><use x=\"504.394531\" xlink:href=\"#DejaVuSans-32\"/><use x=\"568.017578\" xlink:href=\"#DejaVuSans-2c\"/><use x=\"599.804688\" xlink:href=\"#DejaVuSans-20\"/><use x=\"631.591797\" xlink:href=\"#DejaVuSans-32\"/><use x=\"695.214844\" xlink:href=\"#DejaVuSans-2c\"/><use x=\"727.001953\" xlink:href=\"#DejaVuSans-20\"/><use x=\"758.789062\" xlink:href=\"#DejaVuSans-32\"/><use x=\"822.412109\" xlink:href=\"#DejaVuSans-2c\"/><use x=\"854.199219\" xlink:href=\"#DejaVuSans-20\"/><use x=\"885.986328\" xlink:href=\"#DejaVuSans-32\"/><use x=\"949.609375\" xlink:href=\"#DejaVuSans-5d\"/></g><g transform=\"translate(408.89 151.42) rotate(-45) scale(.12721 -.12721)\" fill=\"#d96358\"><use xlink:href=\"#DejaVuSans-74\"/><use x=\"39.208984\" xlink:href=\"#DejaVuSans-72\"/><use x=\"80.322266\" xlink:href=\"#DejaVuSans-61\"/><use x=\"141.601562\" xlink:href=\"#DejaVuSans-6e\"/><use x=\"204.980469\" xlink:href=\"#DejaVuSans-73\"/><use x=\"257.080078\" xlink:href=\"#DejaVuSans-70\"/><use x=\"320.556641\" xlink:href=\"#DejaVuSans-6f\"/><use x=\"381.738281\" xlink:href=\"#DejaVuSans-73\"/><use x=\"433.837891\" xlink:href=\"#DejaVuSans-65\"/><use x=\"495.361328\" xlink:href=\"#DejaVuSans-5b\"/><use x=\"534.375\" xlink:href=\"#DejaVuSans-32\"/><use x=\"597.998047\" xlink:href=\"#DejaVuSans-2c\"/><use x=\"629.785156\" xlink:href=\"#DejaVuSans-20\"/><use x=\"661.572266\" xlink:href=\"#DejaVuSans-32\"/><use x=\"725.195312\" xlink:href=\"#DejaVuSans-2c\"/><use x=\"756.982422\" xlink:href=\"#DejaVuSans-20\"/><use x=\"788.769531\" xlink:href=\"#DejaVuSans-32\"/><use x=\"852.392578\" xlink:href=\"#DejaVuSans-2c\"/><use x=\"884.179688\" xlink:href=\"#DejaVuSans-20\"/><use x=\"915.966797\" xlink:href=\"#DejaVuSans-32\"/><use x=\"979.589844\" xlink:href=\"#DejaVuSans-2c\"/><use x=\"1011.376953\" xlink:href=\"#DejaVuSans-20\"/><use x=\"1043.164062\" xlink:href=\"#DejaVuSans-32\"/><use x=\"1106.787109\" xlink:href=\"#DejaVuSans-2c\"/><use x=\"1138.574219\" xlink:href=\"#DejaVuSans-20\"/><use x=\"1170.361328\" xlink:href=\"#DejaVuSans-32\"/><use x=\"1233.984375\" xlink:href=\"#DejaVuSans-2c\"/><use x=\"1265.771484\" xlink:href=\"#DejaVuSans-20\"/><use x=\"1297.558594\" xlink:href=\"#DejaVuSans-32\"/><use x=\"1361.181641\" xlink:href=\"#DejaVuSans-5d\"/></g><g transform=\"translate(426.63 151.42) rotate(-45) scale(.12721 -.12721)\" fill=\"#cfdb3d\"><use xlink:href=\"#DejaVuSans-72\"/><use x=\"38.863281\" xlink:href=\"#DejaVuSans-65\"/><use x=\"100.386719\" xlink:href=\"#DejaVuSans-73\"/><use x=\"152.486328\" xlink:href=\"#DejaVuSans-68\"/><use x=\"215.865234\" xlink:href=\"#DejaVuSans-61\"/><use x=\"277.144531\" xlink:href=\"#DejaVuSans-70\"/><use x=\"340.621094\" xlink:href=\"#DejaVuSans-65\"/><use x=\"402.144531\" xlink:href=\"#DejaVuSans-5b\"/><use x=\"441.158203\" xlink:href=\"#DejaVuSans-34\"/><use x=\"504.78125\" xlink:href=\"#DejaVuSans-2c\"/><use x=\"536.568359\" xlink:href=\"#DejaVuSans-20\"/><use x=\"568.355469\" xlink:href=\"#DejaVuSans-34\"/><use x=\"631.978516\" xlink:href=\"#DejaVuSans-2c\"/><use x=\"663.765625\" xlink:href=\"#DejaVuSans-20\"/><use x=\"695.552734\" xlink:href=\"#DejaVuSans-38\"/><use x=\"759.175781\" xlink:href=\"#DejaVuSans-5d\"/></g><g transform=\"translate(444.38 151.42) rotate(-45) scale(.12721 -.12721)\" fill=\"#6bd7c0\"><use xlink:href=\"#DejaVuSans-6d\"/><use x=\"97.412109\" xlink:href=\"#DejaVuSans-61\"/><use x=\"158.691406\" xlink:href=\"#DejaVuSans-74\"/><use x=\"197.900391\" xlink:href=\"#DejaVuSans-6d\"/><use x=\"295.3125\" xlink:href=\"#DejaVuSans-75\"/><use x=\"358.691406\" xlink:href=\"#DejaVuSans-6c\"/><use x=\"386.474609\" xlink:href=\"#DejaVuSans-5b\"/><use x=\"425.488281\" xlink:href=\"#DejaVuSans-34\"/><use x=\"489.111328\" xlink:href=\"#DejaVuSans-2c\"/><use x=\"520.898438\" xlink:href=\"#DejaVuSans-20\"/><use x=\"552.685547\" xlink:href=\"#DejaVuSans-31\"/><use x=\"616.308594\" xlink:href=\"#DejaVuSans-32\"/><use x=\"679.931641\" xlink:href=\"#DejaVuSans-2c\"/><use x=\"711.71875\" xlink:href=\"#DejaVuSans-20\"/><use x=\"743.505859\" xlink:href=\"#DejaVuSans-38\"/><use x=\"807.128906\" xlink:href=\"#DejaVuSans-5d\"/></g><g transform=\"translate(462.13 151.42) rotate(-45) scale(.12721 -.12721)\" fill=\"#cfdb3d\"><use xlink:href=\"#DejaVuSans-72\"/><use x=\"38.863281\" xlink:href=\"#DejaVuSans-65\"/><use x=\"100.386719\" xlink:href=\"#DejaVuSans-73\"/><use x=\"152.486328\" xlink:href=\"#DejaVuSans-68\"/><use x=\"215.865234\" xlink:href=\"#DejaVuSans-61\"/><use x=\"277.144531\" xlink:href=\"#DejaVuSans-70\"/><use x=\"340.621094\" xlink:href=\"#DejaVuSans-65\"/><use x=\"402.144531\" xlink:href=\"#DejaVuSans-5b\"/><use x=\"441.158203\" xlink:href=\"#DejaVuSans-32\"/><use x=\"504.78125\" xlink:href=\"#DejaVuSans-2c\"/><use x=\"536.568359\" xlink:href=\"#DejaVuSans-20\"/><use x=\"568.355469\" xlink:href=\"#DejaVuSans-32\"/><use x=\"631.978516\" xlink:href=\"#DejaVuSans-2c\"/><use x=\"663.765625\" xlink:href=\"#DejaVuSans-20\"/><use x=\"695.552734\" xlink:href=\"#DejaVuSans-32\"/><use x=\"759.175781\" xlink:href=\"#DejaVuSans-2c\"/><use x=\"790.962891\" xlink:href=\"#DejaVuSans-20\"/><use x=\"822.75\" xlink:href=\"#DejaVuSans-32\"/><use x=\"886.373047\" xlink:href=\"#DejaVuSans-2c\"/><use x=\"918.160156\" xlink:href=\"#DejaVuSans-20\"/><use x=\"949.947266\" xlink:href=\"#DejaVuSans-33\"/><use x=\"1013.570312\" xlink:href=\"#DejaVuSans-2c\"/><use x=\"1045.357422\" xlink:href=\"#DejaVuSans-20\"/><use x=\"1077.144531\" xlink:href=\"#DejaVuSans-32\"/><use x=\"1140.767578\" xlink:href=\"#DejaVuSans-2c\"/><use x=\"1172.554688\" xlink:href=\"#DejaVuSans-20\"/><use x=\"1204.341797\" xlink:href=\"#DejaVuSans-32\"/><use x=\"1267.964844\" xlink:href=\"#DejaVuSans-2c\"/><use x=\"1299.751953\" xlink:href=\"#DejaVuSans-20\"/><use x=\"1331.539062\" xlink:href=\"#DejaVuSans-32\"/><use x=\"1395.162109\" xlink:href=\"#DejaVuSans-5d\"/></g><g transform=\"translate(479.87 151.42) rotate(-45) scale(.12721 -.12721)\" fill=\"#d96358\"><use xlink:href=\"#DejaVuSans-74\"/><use x=\"39.208984\" xlink:href=\"#DejaVuSans-72\"/><use x=\"80.322266\" xlink:href=\"#DejaVuSans-61\"/><use x=\"141.601562\" xlink:href=\"#DejaVuSans-6e\"/><use x=\"204.980469\" xlink:href=\"#DejaVuSans-73\"/><use x=\"257.080078\" xlink:href=\"#DejaVuSans-70\"/><use x=\"320.556641\" xlink:href=\"#DejaVuSans-6f\"/><use x=\"381.738281\" xlink:href=\"#DejaVuSans-73\"/><use x=\"433.837891\" xlink:href=\"#DejaVuSans-65\"/><use x=\"495.361328\" xlink:href=\"#DejaVuSans-5b\"/><use x=\"534.375\" xlink:href=\"#DejaVuSans-32\"/><use x=\"597.998047\" xlink:href=\"#DejaVuSans-2c\"/><use x=\"629.785156\" xlink:href=\"#DejaVuSans-20\"/><use x=\"661.572266\" xlink:href=\"#DejaVuSans-32\"/><use x=\"725.195312\" xlink:href=\"#DejaVuSans-2c\"/><use x=\"756.982422\" xlink:href=\"#DejaVuSans-20\"/><use x=\"788.769531\" xlink:href=\"#DejaVuSans-32\"/><use x=\"852.392578\" xlink:href=\"#DejaVuSans-2c\"/><use x=\"884.179688\" xlink:href=\"#DejaVuSans-20\"/><use x=\"915.966797\" xlink:href=\"#DejaVuSans-32\"/><use x=\"979.589844\" xlink:href=\"#DejaVuSans-2c\"/><use x=\"1011.376953\" xlink:href=\"#DejaVuSans-20\"/><use x=\"1043.164062\" xlink:href=\"#DejaVuSans-33\"/><use x=\"1106.787109\" xlink:href=\"#DejaVuSans-2c\"/><use x=\"1138.574219\" xlink:href=\"#DejaVuSans-20\"/><use x=\"1170.361328\" xlink:href=\"#DejaVuSans-32\"/><use x=\"1233.984375\" xlink:href=\"#DejaVuSans-2c\"/><use x=\"1265.771484\" xlink:href=\"#DejaVuSans-20\"/><use x=\"1297.558594\" xlink:href=\"#DejaVuSans-32\"/><use x=\"1361.181641\" xlink:href=\"#DejaVuSans-2c\"/><use x=\"1392.96875\" xlink:href=\"#DejaVuSans-20\"/><use x=\"1424.755859\" xlink:href=\"#DejaVuSans-32\"/><use x=\"1488.378906\" xlink:href=\"#DejaVuSans-5d\"/></g><g transform=\"translate(497.62 151.42) rotate(-45) scale(.12721 -.12721)\" fill=\"#cfdb3d\"><defs><path id=\"DejaVuSans-39\" transform=\"scale(.015625)\" d=\"m703 97v575q238-113 481-172 244-59 479-59 625 0 954 420 330 420 377 1277-181-269-460-413-278-144-615-144-700 0-1108 423-408 424-408 1159 0 718 425 1152 425 435 1131 435 810 0 1236-621 427-620 427-1801 0-1103-524-1761-523-658-1407-658-238 0-482 47-243 47-506 141zm1256 1978q425 0 673 290 249 291 249 798 0 503-249 795-248 292-673 292t-673-292-248-795q0-507 248-798 248-290 673-290z\"/></defs><use xlink:href=\"#DejaVuSans-72\"/><use x=\"38.863281\" xlink:href=\"#DejaVuSans-65\"/><use x=\"100.386719\" xlink:href=\"#DejaVuSans-73\"/><use x=\"152.486328\" xlink:href=\"#DejaVuSans-68\"/><use x=\"215.865234\" xlink:href=\"#DejaVuSans-61\"/><use x=\"277.144531\" xlink:href=\"#DejaVuSans-70\"/><use x=\"340.621094\" xlink:href=\"#DejaVuSans-65\"/><use x=\"402.144531\" xlink:href=\"#DejaVuSans-5b\"/><use x=\"441.158203\" xlink:href=\"#DejaVuSans-32\"/><use x=\"504.78125\" xlink:href=\"#DejaVuSans-2c\"/><use x=\"536.568359\" xlink:href=\"#DejaVuSans-20\"/><use x=\"568.355469\" xlink:href=\"#DejaVuSans-31\"/><use x=\"631.978516\" xlink:href=\"#DejaVuSans-39\"/><use x=\"695.601562\" xlink:href=\"#DejaVuSans-32\"/><use x=\"759.224609\" xlink:href=\"#DejaVuSans-5d\"/></g><g transform=\"translate(515.37 151.42) rotate(-45) scale(.12721 -.12721)\" fill=\"#808080\"><use xlink:href=\"#DejaVuSans-2190\"/><use x=\"83.789062\" xlink:href=\"#DejaVuSans-5b\"/><use x=\"122.802734\" xlink:href=\"#DejaVuSans-32\"/><use x=\"186.425781\" xlink:href=\"#DejaVuSans-2c\"/><use x=\"218.212891\" xlink:href=\"#DejaVuSans-20\"/><use x=\"250\" xlink:href=\"#DejaVuSans-33\"/><use x=\"313.623047\" xlink:href=\"#DejaVuSans-2c\"/><use x=\"345.410156\" xlink:href=\"#DejaVuSans-20\"/><use x=\"377.197266\" xlink:href=\"#DejaVuSans-32\"/><use x=\"440.820312\" xlink:href=\"#DejaVuSans-2c\"/><use x=\"472.607422\" xlink:href=\"#DejaVuSans-20\"/><use x=\"504.394531\" xlink:href=\"#DejaVuSans-32\"/><use x=\"568.017578\" xlink:href=\"#DejaVuSans-2c\"/><use x=\"599.804688\" xlink:href=\"#DejaVuSans-20\"/><use x=\"631.591797\" xlink:href=\"#DejaVuSans-32\"/><use x=\"695.214844\" xlink:href=\"#DejaVuSans-2c\"/><use x=\"727.001953\" xlink:href=\"#DejaVuSans-20\"/><use x=\"758.789062\" xlink:href=\"#DejaVuSans-33\"/><use x=\"822.412109\" xlink:href=\"#DejaVuSans-2c\"/><use x=\"854.199219\" xlink:href=\"#DejaVuSans-20\"/><use x=\"885.986328\" xlink:href=\"#DejaVuSans-32\"/><use x=\"949.609375\" xlink:href=\"#DejaVuSans-2c\"/><use x=\"981.396484\" xlink:href=\"#DejaVuSans-20\"/><use x=\"1013.183594\" xlink:href=\"#DejaVuSans-32\"/><use x=\"1076.806641\" xlink:href=\"#DejaVuSans-5d\"/></g><g transform=\"translate(533.11 151.42) rotate(-45) scale(.12721 -.12721)\" fill=\"#d96358\"><use xlink:href=\"#DejaVuSans-74\"/><use x=\"39.208984\" xlink:href=\"#DejaVuSans-72\"/><use x=\"80.322266\" xlink:href=\"#DejaVuSans-61\"/><use x=\"141.601562\" xlink:href=\"#DejaVuSans-6e\"/><use x=\"204.980469\" xlink:href=\"#DejaVuSans-73\"/><use x=\"257.080078\" xlink:href=\"#DejaVuSans-70\"/><use x=\"320.556641\" xlink:href=\"#DejaVuSans-6f\"/><use x=\"381.738281\" xlink:href=\"#DejaVuSans-73\"/><use x=\"433.837891\" xlink:href=\"#DejaVuSans-65\"/><use x=\"495.361328\" xlink:href=\"#DejaVuSans-5b\"/><use x=\"534.375\" xlink:href=\"#DejaVuSans-32\"/><use x=\"597.998047\" xlink:href=\"#DejaVuSans-2c\"/><use x=\"629.785156\" xlink:href=\"#DejaVuSans-20\"/><use x=\"661.572266\" xlink:href=\"#DejaVuSans-32\"/><use x=\"725.195312\" xlink:href=\"#DejaVuSans-2c\"/><use x=\"756.982422\" xlink:href=\"#DejaVuSans-20\"/><use x=\"788.769531\" xlink:href=\"#DejaVuSans-32\"/><use x=\"852.392578\" xlink:href=\"#DejaVuSans-2c\"/><use x=\"884.179688\" xlink:href=\"#DejaVuSans-20\"/><use x=\"915.966797\" xlink:href=\"#DejaVuSans-33\"/><use x=\"979.589844\" xlink:href=\"#DejaVuSans-2c\"/><use x=\"1011.376953\" xlink:href=\"#DejaVuSans-20\"/><use x=\"1043.164062\" xlink:href=\"#DejaVuSans-32\"/><use x=\"1106.787109\" xlink:href=\"#DejaVuSans-2c\"/><use x=\"1138.574219\" xlink:href=\"#DejaVuSans-20\"/><use x=\"1170.361328\" xlink:href=\"#DejaVuSans-32\"/><use x=\"1233.984375\" xlink:href=\"#DejaVuSans-2c\"/><use x=\"1265.771484\" xlink:href=\"#DejaVuSans-20\"/><use x=\"1297.558594\" xlink:href=\"#DejaVuSans-32\"/><use x=\"1361.181641\" xlink:href=\"#DejaVuSans-2c\"/><use x=\"1392.96875\" xlink:href=\"#DejaVuSans-20\"/><use x=\"1424.755859\" xlink:href=\"#DejaVuSans-33\"/><use x=\"1488.378906\" xlink:href=\"#DejaVuSans-5d\"/></g><g transform=\"translate(550.86 151.42) rotate(-45) scale(.12721 -.12721)\" fill=\"#cfdb3d\"><use xlink:href=\"#DejaVuSans-72\"/><use x=\"38.863281\" xlink:href=\"#DejaVuSans-65\"/><use x=\"100.386719\" xlink:href=\"#DejaVuSans-73\"/><use x=\"152.486328\" xlink:href=\"#DejaVuSans-68\"/><use x=\"215.865234\" xlink:href=\"#DejaVuSans-61\"/><use x=\"277.144531\" xlink:href=\"#DejaVuSans-70\"/><use x=\"340.621094\" xlink:href=\"#DejaVuSans-65\"/><use x=\"402.144531\" xlink:href=\"#DejaVuSans-5b\"/><use x=\"441.158203\" xlink:href=\"#DejaVuSans-31\"/><use x=\"504.78125\" xlink:href=\"#DejaVuSans-39\"/><use x=\"568.404297\" xlink:href=\"#DejaVuSans-32\"/><use x=\"632.027344\" xlink:href=\"#DejaVuSans-2c\"/><use x=\"663.814453\" xlink:href=\"#DejaVuSans-20\"/><use x=\"695.601562\" xlink:href=\"#DejaVuSans-33\"/><use x=\"759.224609\" xlink:href=\"#DejaVuSans-5d\"/></g><g transform=\"translate(568.6 151.42) rotate(-45) scale(.12721 -.12721)\" fill=\"#6bd7c0\"><use xlink:href=\"#DejaVuSans-6d\"/><use x=\"97.412109\" xlink:href=\"#DejaVuSans-61\"/><use x=\"158.691406\" xlink:href=\"#DejaVuSans-74\"/><use x=\"197.900391\" xlink:href=\"#DejaVuSans-6d\"/><use x=\"295.3125\" xlink:href=\"#DejaVuSans-75\"/><use x=\"358.691406\" xlink:href=\"#DejaVuSans-6c\"/><use x=\"386.474609\" xlink:href=\"#DejaVuSans-5b\"/><use x=\"425.488281\" xlink:href=\"#DejaVuSans-32\"/><use x=\"489.111328\" xlink:href=\"#DejaVuSans-2c\"/><use x=\"520.898438\" xlink:href=\"#DejaVuSans-20\"/><use x=\"552.685547\" xlink:href=\"#DejaVuSans-33\"/><use x=\"616.308594\" xlink:href=\"#DejaVuSans-5d\"/></g><g transform=\"translate(586.35 151.42) rotate(-45) scale(.12721 -.12721)\" fill=\"#d96358\"><use xlink:href=\"#DejaVuSans-74\"/><use x=\"39.208984\" xlink:href=\"#DejaVuSans-72\"/><use x=\"80.322266\" xlink:href=\"#DejaVuSans-61\"/><use x=\"141.601562\" xlink:href=\"#DejaVuSans-6e\"/><use x=\"204.980469\" xlink:href=\"#DejaVuSans-73\"/><use x=\"257.080078\" xlink:href=\"#DejaVuSans-70\"/><use x=\"320.556641\" xlink:href=\"#DejaVuSans-6f\"/><use x=\"381.738281\" xlink:href=\"#DejaVuSans-73\"/><use x=\"433.837891\" xlink:href=\"#DejaVuSans-65\"/><use x=\"495.361328\" xlink:href=\"#DejaVuSans-5b\"/><use x=\"534.375\" xlink:href=\"#DejaVuSans-33\"/><use x=\"597.998047\" xlink:href=\"#DejaVuSans-2c\"/><use x=\"629.785156\" xlink:href=\"#DejaVuSans-20\"/><use x=\"661.572266\" xlink:href=\"#DejaVuSans-32\"/><use x=\"725.195312\" xlink:href=\"#DejaVuSans-5d\"/></g><path d=\"m583.95 188.79h-17.746\" clip-path=\"url(#6d0f9da50f3)\" fill=\"none\" stroke=\"#6bd7c0\" stroke-width=\"2.5443\"/><path d=\"m566.21 188.79h-70.985\" clip-path=\"url(#6d0f9da50f3)\" fill=\"none\" stroke=\"#cfdb3d\" stroke-width=\"2.5443\"/><path d=\"m566.21 188.79v-13.31l-4.4366-4.4366h-13.31\" clip-path=\"url(#6d0f9da50f3)\" fill=\"none\" stroke=\"#cfdb3d\" stroke-width=\"2.5443\"/><path d=\"m548.46 171.04h-17.746\" clip-path=\"url(#6d0f9da50f3)\" fill=\"none\" stroke=\"#d96358\" stroke-width=\"2.5443\"/><path d=\"m530.71 171.04h-17.746\" clip-path=\"url(#6d0f9da50f3)\" fill=\"none\" stroke=\"#808080\" stroke-width=\"2.5443\"/><path d=\"m495.22 188.79h-17.746\" clip-path=\"url(#6d0f9da50f3)\" fill=\"none\" stroke=\"#d96358\" stroke-width=\"2.5443\"/><path d=\"m477.48 188.79h-17.746\" clip-path=\"url(#6d0f9da50f3)\" fill=\"none\" stroke=\"#cfdb3d\" stroke-width=\"2.5443\"/><path d=\"m459.73 188.79h-17.746\" clip-path=\"url(#6d0f9da50f3)\" fill=\"none\" stroke=\"#6bd7c0\" stroke-width=\"2.5443\"/><path d=\"m441.98 188.79h-70.985\" clip-path=\"url(#6d0f9da50f3)\" fill=\"none\" stroke=\"#cfdb3d\" stroke-width=\"2.5443\"/><path d=\"m441.98 188.79v-13.31l-4.4366-4.4366h-13.31\" clip-path=\"url(#6d0f9da50f3)\" fill=\"none\" stroke=\"#cfdb3d\" stroke-width=\"2.5443\"/><path d=\"m424.24 171.04h-17.746\" clip-path=\"url(#6d0f9da50f3)\" fill=\"none\" stroke=\"#d96358\" stroke-width=\"2.5443\"/><path d=\"m406.49 171.04h-17.746\" clip-path=\"url(#6d0f9da50f3)\" fill=\"none\" stroke=\"#808080\" stroke-width=\"2.5443\"/><path d=\"m371 188.79h-17.746\" clip-path=\"url(#6d0f9da50f3)\" fill=\"none\" stroke=\"#d96358\" stroke-width=\"2.5443\"/><path d=\"m353.25 188.79h-17.746\" clip-path=\"url(#6d0f9da50f3)\" fill=\"none\" stroke=\"#cfdb3d\" stroke-width=\"2.5443\"/><path d=\"m335.51 188.79h-17.746\" clip-path=\"url(#6d0f9da50f3)\" fill=\"none\" stroke=\"#6bd7c0\" stroke-width=\"2.5443\"/><path d=\"m317.76 188.79h-70.985\" clip-path=\"url(#6d0f9da50f3)\" fill=\"none\" stroke=\"#cfdb3d\" stroke-width=\"2.5443\"/><path d=\"m317.76 188.79v-13.31l-4.4366-4.4366h-13.31\" clip-path=\"url(#6d0f9da50f3)\" fill=\"none\" stroke=\"#cfdb3d\" stroke-width=\"2.5443\"/><path d=\"m300.01 171.04h-17.746\" clip-path=\"url(#6d0f9da50f3)\" fill=\"none\" stroke=\"#d96358\" stroke-width=\"2.5443\"/><path d=\"m282.27 171.04h-17.746\" clip-path=\"url(#6d0f9da50f3)\" fill=\"none\" stroke=\"#808080\" stroke-width=\"2.5443\"/><path d=\"m246.77 188.79h-17.746\" clip-path=\"url(#6d0f9da50f3)\" fill=\"none\" stroke=\"#6bd7c0\" stroke-width=\"2.5443\"/><path d=\"m229.03 188.79h-70.985\" clip-path=\"url(#6d0f9da50f3)\" fill=\"none\" stroke=\"#cfdb3d\" stroke-width=\"2.5443\"/><path d=\"m229.03 188.79v-13.31l-4.4366-4.4366h-13.31\" clip-path=\"url(#6d0f9da50f3)\" fill=\"none\" stroke=\"#cfdb3d\" stroke-width=\"2.5443\"/><path d=\"m211.28 171.04h-17.746\" clip-path=\"url(#6d0f9da50f3)\" fill=\"none\" stroke=\"#d96358\" stroke-width=\"2.5443\"/><path d=\"m193.54 171.04h-17.746\" clip-path=\"url(#6d0f9da50f3)\" fill=\"none\" stroke=\"#808080\" stroke-width=\"2.5443\"/><path d=\"m158.04 188.79h-17.746\" clip-path=\"url(#6d0f9da50f3)\" fill=\"none\" stroke=\"#d96358\" stroke-width=\"2.5443\"/><path d=\"m140.3 188.79h-17.746\" clip-path=\"url(#6d0f9da50f3)\" fill=\"none\" stroke=\"#cfdb3d\" stroke-width=\"2.5443\"/><path d=\"m122.55 188.79h-17.746\" clip-path=\"url(#6d0f9da50f3)\" fill=\"none\" stroke=\"#6bd7c0\" stroke-width=\"2.5443\"/><path d=\"m104.8 188.79h-53.239\" clip-path=\"url(#6d0f9da50f3)\" fill=\"none\" stroke=\"#cfdb3d\" stroke-width=\"2.5443\"/><path d=\"m104.8 188.79v-13.31l-4.4366-4.4366h-13.31\" clip-path=\"url(#6d0f9da50f3)\" fill=\"none\" stroke=\"#cfdb3d\" stroke-width=\"2.5443\"/><path d=\"m87.058 171.04h-17.746\" clip-path=\"url(#6d0f9da50f3)\" fill=\"none\" stroke=\"#808080\" stroke-width=\"2.5443\"/><path d=\"m51.566 188.79h-17.746\" clip-path=\"url(#6d0f9da50f3)\" fill=\"none\" stroke=\"#d96358\" stroke-width=\"2.5443\"/><path d=\"m33.819 188.79h-17.746\" clip-path=\"url(#6d0f9da50f3)\" fill=\"none\" stroke=\"#808080\" stroke-width=\"2.5443\"/><path d=\"m16.073 195.88c1.8825 0 3.6882-0.74794 5.0194-2.0791 1.3312-1.3312 2.0791-3.1368 2.0791-5.0194 0-1.8825-0.74794-3.6882-2.0791-5.0194-1.3312-1.3312-3.1368-2.0791-5.0194-2.0791s-3.6882 0.74794-5.0194 2.0791c-1.3312 1.3312-2.0791 3.1368-2.0791 5.0194 0 1.8825 0.74794 3.6882 2.0791 5.0194 1.3312 1.3312 3.1368 2.0791 5.0194 2.0791z\" clip-path=\"url(#6d0f9da50f3)\" fill=\"#808080\" stroke=\"#808080\"/><path d=\"m28.495 194.11v-10.648h5.3239l5.3239 5.3239-5.3239 5.3239z\" clip-path=\"url(#6d0f9da50f3)\" fill=\"#d96358\" stroke=\"#d96358\"/><path d=\"m46.242 194.11v-10.648h5.3239l5.3239 5.3239-5.3239 5.3239z\" clip-path=\"url(#6d0f9da50f3)\" fill=\"#cfdb3d\" stroke=\"#cfdb3d\"/><path d=\"m69.312 178.14c1.8825 0 3.6882-0.74794 5.0194-2.0791 1.3312-1.3312 2.0791-3.1368 2.0791-5.0194 0-1.8825-0.74794-3.6882-2.0791-5.0194-1.3312-1.3312-3.1368-2.0791-5.0194-2.0791s-3.6882 0.74794-5.0194 2.0791c-1.3312 1.3312-2.0791 3.1368-2.0791 5.0194 0 1.8825 0.74794 3.6882 2.0791 5.0194 1.3312 1.3312 3.1368 2.0791 5.0194 2.0791z\" clip-path=\"url(#6d0f9da50f3)\" fill=\"#808080\" stroke=\"#808080\"/><path d=\"m81.734 176.36v-10.648h5.3239l5.3239 5.3239-5.3239 5.3239z\" clip-path=\"url(#6d0f9da50f3)\" fill=\"#cfdb3d\" stroke=\"#cfdb3d\"/><path d=\"m99.48 194.11v-10.648h5.3239l5.3239 5.3239-5.3239 5.3239z\" clip-path=\"url(#6d0f9da50f3)\" fill=\"#6bd7c0\" stroke=\"#6bd7c0\"/><path d=\"m117.23 194.11v-10.648h5.3239l5.3239 5.3239-5.3239 5.3239z\" clip-path=\"url(#6d0f9da50f3)\" fill=\"#cfdb3d\" stroke=\"#cfdb3d\"/><path d=\"m134.97 194.11v-10.648h5.3239l5.3239 5.3239-5.3239 5.3239z\" clip-path=\"url(#6d0f9da50f3)\" fill=\"#d96358\" stroke=\"#d96358\"/><path d=\"m152.72 194.11v-10.648h5.3239l5.3239 5.3239-5.3239 5.3239z\" clip-path=\"url(#6d0f9da50f3)\" fill=\"#cfdb3d\" stroke=\"#cfdb3d\"/><path d=\"m175.79 178.14c1.8825 0 3.6882-0.74794 5.0194-2.0791 1.3312-1.3312 2.0791-3.1368 2.0791-5.0194 0-1.8825-0.74794-3.6882-2.0791-5.0194-1.3312-1.3312-3.1369-2.0791-5.0194-2.0791-1.8825 0-3.6882 0.74794-5.0194 2.0791-1.3312 1.3312-2.0791 3.1368-2.0791 5.0194 0 1.8825 0.74794 3.6882 2.0791 5.0194 1.3312 1.3312 3.1368 2.0791 5.0194 2.0791z\" clip-path=\"url(#6d0f9da50f3)\" fill=\"#808080\" stroke=\"#808080\"/><path d=\"m188.21 176.36v-10.648h5.3239l5.3239 5.3239-5.3239 5.3239z\" clip-path=\"url(#6d0f9da50f3)\" fill=\"#d96358\" stroke=\"#d96358\"/><path d=\"m205.96 176.36v-10.648h5.3239l5.3239 5.3239-5.3239 5.3239z\" clip-path=\"url(#6d0f9da50f3)\" fill=\"#cfdb3d\" stroke=\"#cfdb3d\"/><path d=\"m223.7 194.11v-10.648h5.3239l5.3239 5.3239-5.3239 5.3239z\" clip-path=\"url(#6d0f9da50f3)\" fill=\"#6bd7c0\" stroke=\"#6bd7c0\"/><path d=\"m241.45 194.11v-10.648h5.3239l5.3239 5.3239-5.3239 5.3239z\" clip-path=\"url(#6d0f9da50f3)\" fill=\"#cfdb3d\" stroke=\"#cfdb3d\"/><path d=\"m264.52 178.14c1.8825 0 3.6882-0.74794 5.0194-2.0791 1.3312-1.3312 2.0791-3.1368 2.0791-5.0194 0-1.8825-0.74794-3.6882-2.0791-5.0194-1.3312-1.3312-3.1369-2.0791-5.0194-2.0791-1.8825 0-3.6882 0.74794-5.0194 2.0791-1.3312 1.3312-2.0791 3.1368-2.0791 5.0194 0 1.8825 0.74794 3.6882 2.0791 5.0194 1.3312 1.3312 3.1368 2.0791 5.0194 2.0791z\" clip-path=\"url(#6d0f9da50f3)\" fill=\"#808080\" stroke=\"#808080\"/><path d=\"m276.94 176.36v-10.648h5.3239l5.3239 5.3239-5.3239 5.3239z\" clip-path=\"url(#6d0f9da50f3)\" fill=\"#d96358\" stroke=\"#d96358\"/><path d=\"m294.69 176.36v-10.648h5.3239l5.3239 5.3239-5.3239 5.3239z\" clip-path=\"url(#6d0f9da50f3)\" fill=\"#cfdb3d\" stroke=\"#cfdb3d\"/><path d=\"m312.44 194.11v-10.648h5.3239l5.3239 5.3239-5.3239 5.3239z\" clip-path=\"url(#6d0f9da50f3)\" fill=\"#6bd7c0\" stroke=\"#6bd7c0\"/><path d=\"m330.18 194.11v-10.648h5.3239l5.3239 5.3239-5.3239 5.3239z\" clip-path=\"url(#6d0f9da50f3)\" fill=\"#cfdb3d\" stroke=\"#cfdb3d\"/><path d=\"m347.93 194.11v-10.648h5.3239l5.3239 5.3239-5.3239 5.3239z\" clip-path=\"url(#6d0f9da50f3)\" fill=\"#d96358\" stroke=\"#d96358\"/><path d=\"m365.67 194.11v-10.648h5.3239l5.3239 5.3239-5.3239 5.3239z\" clip-path=\"url(#6d0f9da50f3)\" fill=\"#cfdb3d\" stroke=\"#cfdb3d\"/><path d=\"m388.74 178.14c1.8825 0 3.6882-0.74794 5.0194-2.0791 1.3312-1.3312 2.0791-3.1368 2.0791-5.0194 0-1.8825-0.74794-3.6882-2.0791-5.0194-1.3312-1.3312-3.1369-2.0791-5.0194-2.0791-1.8825 0-3.6882 0.74794-5.0194 2.0791-1.3312 1.3312-2.0791 3.1368-2.0791 5.0194 0 1.8825 0.74794 3.6882 2.0791 5.0194 1.3312 1.3312 3.1368 2.0791 5.0194 2.0791z\" clip-path=\"url(#6d0f9da50f3)\" fill=\"#808080\" stroke=\"#808080\"/><path d=\"m401.17 176.36v-10.648h5.3239l5.3239 5.3239-5.3239 5.3239z\" clip-path=\"url(#6d0f9da50f3)\" fill=\"#d96358\" stroke=\"#d96358\"/><path d=\"m418.91 176.36v-10.648h5.3239l5.3239 5.3239-5.3239 5.3239z\" clip-path=\"url(#6d0f9da50f3)\" fill=\"#cfdb3d\" stroke=\"#cfdb3d\"/><path d=\"m436.66 194.11v-10.648h5.3239l5.3239 5.3239-5.3239 5.3239z\" clip-path=\"url(#6d0f9da50f3)\" fill=\"#6bd7c0\" stroke=\"#6bd7c0\"/><path d=\"m454.41 194.11v-10.648h5.3239l5.3239 5.3239-5.3239 5.3239z\" clip-path=\"url(#6d0f9da50f3)\" fill=\"#cfdb3d\" stroke=\"#cfdb3d\"/><path d=\"m472.15 194.11v-10.648h5.3239l5.3239 5.3239-5.3239 5.3239z\" clip-path=\"url(#6d0f9da50f3)\" fill=\"#d96358\" stroke=\"#d96358\"/><path d=\"m489.9 194.11v-10.648h5.3239l5.3239 5.3239-5.3239 5.3239z\" clip-path=\"url(#6d0f9da50f3)\" fill=\"#cfdb3d\" stroke=\"#cfdb3d\"/><path d=\"m512.97 178.14c1.8825 0 3.6882-0.74794 5.0194-2.0791 1.3312-1.3312 2.0791-3.1368 2.0791-5.0194 0-1.8825-0.74794-3.6882-2.0791-5.0194-1.3312-1.3312-3.1369-2.0791-5.0194-2.0791-1.8825 0-3.6882 0.74794-5.0194 2.0791-1.3312 1.3312-2.0791 3.1368-2.0791 5.0194 0 1.8825 0.74794 3.6882 2.0791 5.0194 1.3312 1.3312 3.1368 2.0791 5.0194 2.0791z\" clip-path=\"url(#6d0f9da50f3)\" fill=\"#808080\" stroke=\"#808080\"/><path d=\"m525.39 176.36v-10.648h5.3239l5.3239 5.3239-5.3239 5.3239z\" clip-path=\"url(#6d0f9da50f3)\" fill=\"#d96358\" stroke=\"#d96358\"/><path d=\"m543.14 176.36v-10.648h5.3239l5.3239 5.3239-5.3239 5.3239z\" clip-path=\"url(#6d0f9da50f3)\" fill=\"#cfdb3d\" stroke=\"#cfdb3d\"/><path d=\"m560.88 194.11v-10.648h5.3239l5.3239 5.3239-5.3239 5.3239z\" clip-path=\"url(#6d0f9da50f3)\" fill=\"#6bd7c0\" stroke=\"#6bd7c0\"/><path d=\"m578.63 194.11v-10.648h5.3239l5.3239 5.3239-5.3239 5.3239z\" clip-path=\"url(#6d0f9da50f3)\" fill=\"#d96358\" stroke=\"#d96358\"/><defs><clipPath id=\"6d0f9da50f3\"><rect x=\"7.2\" y=\"162.17\" width=\"585.63\" height=\"35.492\"/></clipPath></defs></svg>"
      ],
      "text/plain": [
       "<Figure size 1049.51x1049.51 with 1 Axes>"
      ]
     },
     "metadata": {
      "needs_background": "light"
     },
     "output_type": "display_data"
    },
    {
     "data": {
      "text/plain": [
       "(<Figure size 1049.51x1049.51 with 1 Axes>, <Axes: >)"
      ]
     },
     "execution_count": 16,
     "metadata": {},
     "output_type": "execute_result"
    }
   ],
   "source": [
    "lz.plot_circuit()"
   ]
  },
  {
   "cell_type": "markdown",
   "id": "ad415c45",
   "metadata": {},
   "source": [
    "Visualize as text / terminal:"
   ]
  },
  {
   "cell_type": "code",
   "execution_count": 17,
   "id": "79283c35",
   "metadata": {},
   "outputs": [
    {
     "name": "stdout",
     "output_type": "stream",
     "text": [
      "   0 transpose[3, 2]\n",
      "   1 ╰─matmul[2, 3]\n",
      "   2   ├─reshape[192, 3]\n",
      "   3   │ ╰─transpose[2, 2, 2, 3, 2, 2, 2, 3]\n",
      "   4   │   ╰─←[2, 3, 2, 2, 2, 3, 2, 2]\n",
      "   5   ╰─reshape[2, 192]\n",
      "   6     ╰─transpose[2, 2, 2, 2, 3, 2, 2, 2]\n",
      "   7       ╰─reshape[2, 2, 2, 2, 3, 2, 2, 2]\n",
      "   8         ╰─matmul[4, 12, 8]\n",
      "   9           ├─reshape[4, 4, 8]\n",
      "  10           │ ╰─transpose[2, 2, 2, 2, 2, 2, 2]\n",
      "  11           │   ╰─←[2, 2, 2, 2, 2, 2, 2]\n",
      "  12           ╰─reshape[4, 12, 4]\n",
      "  13             ╰─transpose[2, 2, 2, 2, 3, 2, 2]\n",
      "  14               ╰─reshape[2, 2, 2, 2, 2, 3, 2]\n",
      "  15                 ╰─matmul[4, 2, 24]\n",
      "  16                   ├─reshape[4, 4, 24]\n",
      "  17                   │ ╰─transpose[2, 2, 2, 2, 2, 2, 3, 2]\n",
      "  18                   │   ╰─←[2, 2, 2, 2, 2, 3, 2, 2]\n",
      "  19                   ╰─reshape[4, 2, 4]\n",
      "  20                     ╰─matmul[4, 2, 4]\n",
      "  21                       ├─reshape[4, 2, 4]\n",
      "  22                       │ ╰─transpose[2, 2, 2, 2, 2]\n",
      "  23                       │   ╰─←[2, 2, 2, 2, 2]\n",
      "  24                       ╰─reshape[4, 2, 2]\n",
      "  25                         ╰─transpose[2, 2, 2, 2]\n",
      "  26                           ╰─reshape[2, 2, 2, 2]\n",
      "  27                             ╰─matmul[2, 1, 8]\n",
      "  28                               ├─reshape[2, 1, 2]\n",
      "  29                               │ ╰─←[2, 2]\n",
      "  30                               ╰─reshape[2, 2, 8]\n",
      "  31                                 ╰─transpose[2, 2, 2, 2, 2]\n",
      "  32                                   ╰─←[2, 2, 2, 2, 2]\n"
     ]
    }
   ],
   "source": [
    "lz.show()"
   ]
  },
  {
   "cell_type": "markdown",
   "id": "ad23df09",
   "metadata": {},
   "source": [
    "Some preparatory einsums might appear, only for removing initial diagonal indices and trivial indices etc."
   ]
  },
  {
   "cell_type": "markdown",
   "id": "b75c2f92",
   "metadata": {},
   "source": [
    "## getting the linear form of the contraction"
   ]
  },
  {
   "cell_type": "code",
   "execution_count": 18,
   "id": "ee3860d8",
   "metadata": {},
   "outputs": [
    {
     "data": {
      "text/plain": [
       "['x139996605978592',\n",
       " 'x139996605418560',\n",
       " 'x139996605418080',\n",
       " 'x139996605426720',\n",
       " 'x139996605418752',\n",
       " 'x139996605418272']"
      ]
     },
     "execution_count": 18,
     "metadata": {},
     "output_type": "execute_result"
    }
   ],
   "source": [
    "# names of the inputs variables in the contraction\n",
    "[f\"x{id(v)}\" for v in variables]"
   ]
  },
  {
   "cell_type": "code",
   "execution_count": 19,
   "id": "035b84ec-ffec-45a6-badb-a6a069d7a7b1",
   "metadata": {},
   "outputs": [
    {
     "name": "stdout",
     "output_type": "stream",
     "text": [
      "x139996605419040 = transpose139997039584176(x139996605418272, (1, 2, 0, 3, 4,))\n",
      "x139996603351968 = reshape139997039578096(x139996605419040, (2, 2, 8,))\n",
      "del x139996605419040\n",
      "x139996605426048 = reshape139997039578096(x139996605418560, (2, 1, 2,))\n",
      "x139996603351488 = matmul139997611038160(x139996605426048, x139996603351968)\n",
      "del x139996603351968\n",
      "del x139996605426048\n",
      "x139996603351872 = reshape139997039578096(x139996603351488, (2, 2, 2, 2,))\n",
      "del x139996603351488\n",
      "x139996603351776 = transpose139997039584176(x139996603351872, (0, 1, 3, 2,))\n",
      "del x139996603351872\n",
      "x139996603351680 = reshape139997039578096(x139996603351776, (4, 2, 2,))\n",
      "del x139996603351776\n",
      "x139996603351584 = transpose139997039584176(x139996605426720, (1, 0, 3, 2, 4,))\n",
      "x139996603352160 = reshape139997039578096(x139996603351584, (4, 2, 4,))\n",
      "del x139996603351584\n",
      "x139996603352256 = matmul139997611038160(x139996603351680, x139996603352160)\n",
      "del x139996603352160\n",
      "del x139996603351680\n",
      "x139996603352544 = reshape139997039578096(x139996603352256, (4, 2, 4,))\n",
      "del x139996603352256\n",
      "x139996603352640 = transpose139997039584176(x139996605978592, (1, 0, 3, 7, 2, 4, 5, 6,))\n",
      "x139996603352736 = reshape139997039578096(x139996603352640, (4, 4, 24,))\n",
      "del x139996603352640\n",
      "x139996603352832 = matmul139997611038160(x139996603352544, x139996603352736)\n",
      "del x139996603352736\n",
      "del x139996603352544\n",
      "x139996603352928 = reshape139997039578096(x139996603352832, (2, 2, 2, 2, 2, 3, 2,))\n",
      "del x139996603352832\n",
      "x139996603353216 = transpose139997039584176(x139996603352928, (0, 1, 3, 4, 5, 2, 6,))\n",
      "del x139996603352928\n",
      "x139996603353312 = reshape139997039578096(x139996603353216, (4, 12, 4,))\n",
      "del x139996603353216\n",
      "x139996603353504 = transpose139997039584176(x139996605418752, (1, 0, 5, 3, 2, 4, 6,))\n",
      "x139996603353600 = reshape139997039578096(x139996603353504, (4, 4, 8,))\n",
      "del x139996603353504\n",
      "x139996603353696 = matmul139997611038160(x139996603353312, x139996603353600)\n",
      "del x139996603353600\n",
      "del x139996603353312\n",
      "x139996603353792 = reshape139997039578096(x139996603353696, (2, 2, 2, 2, 3, 2, 2, 2,))\n",
      "del x139996603353696\n",
      "x139996603354176 = transpose139997039584176(x139996603353792, (1, 0, 2, 3, 4, 5, 6, 7,))\n",
      "del x139996603353792\n",
      "x139996603354272 = reshape139997039578096(x139996603354176, (2, 192,))\n",
      "del x139996603354176\n",
      "x139996603354368 = transpose139997039584176(x139996605418080, (0, 2, 3, 5, 4, 6, 7, 1,))\n",
      "x139996603354464 = reshape139997039578096(x139996603354368, (192, 3,))\n",
      "del x139996603354368\n",
      "x139996603354560 = matmul139997611038160(x139996603354272, x139996603354464)\n",
      "del x139996603354464\n",
      "del x139996603354272\n",
      "x139996603354656 = transpose139997039584176(x139996603354560, (1, 0,))\n",
      "del x139996603354560\n"
     ]
    }
   ],
   "source": [
    "# a python source code of the whole contraction\n",
    "print(lz.get_source())"
   ]
  },
  {
   "cell_type": "markdown",
   "id": "574e460b",
   "metadata": {},
   "source": [
    "Or access the nodes programmatically:"
   ]
  },
  {
   "cell_type": "code",
   "execution_count": 20,
   "id": "192feabf",
   "metadata": {},
   "outputs": [
    {
     "name": "stdout",
     "output_type": "stream",
     "text": [
      "fn: None\n",
      "args: None\n",
      "kwargs: None\n",
      "\n",
      "fn: <function transpose at 0x7f5399cea7a0>\n",
      "args: (<LazyArray(fn=None, shape=(2, 2, 2, 2, 2), backend='numpy')>, (1, 2, 0, 3, 4))\n",
      "kwargs: {}\n",
      "\n",
      "fn: <function reshape at 0x7f5399cea160>\n",
      "args: (<LazyArray(fn=transpose, shape=(2, 2, 2, 2, 2), backend='numpy')>, (2, 2, 8))\n",
      "kwargs: {}\n",
      "\n",
      "fn: None\n",
      "args: None\n",
      "kwargs: None\n",
      "\n",
      "fn: <function reshape at 0x7f5399cea160>\n",
      "args: (<LazyArray(fn=None, shape=(2, 2), backend='numpy')>, (2, 1, 2))\n",
      "kwargs: {}\n",
      "\n",
      "fn: <built-in function matmul>\n",
      "args: (<LazyArray(fn=reshape, shape=(2, 1, 2), backend='numpy')>, <LazyArray(fn=reshape, shape=(2, 2, 8), backend='numpy')>)\n",
      "kwargs: {}\n",
      "\n",
      "fn: <function reshape at 0x7f5399cea160>\n",
      "args: (<LazyArray(fn=matmul, shape=(2, 1, 8), backend='numpy')>, (2, 2, 2, 2))\n",
      "kwargs: {}\n",
      "\n",
      "fn: <function transpose at 0x7f5399cea7a0>\n",
      "args: (<LazyArray(fn=reshape, shape=(2, 2, 2, 2), backend='numpy')>, (0, 1, 3, 2))\n",
      "kwargs: {}\n",
      "\n",
      "fn: <function reshape at 0x7f5399cea160>\n",
      "args: (<LazyArray(fn=transpose, shape=(2, 2, 2, 2), backend='numpy')>, (4, 2, 2))\n",
      "kwargs: {}\n",
      "\n",
      "fn: None\n",
      "args: None\n",
      "kwargs: None\n",
      "\n",
      "fn: <function transpose at 0x7f5399cea7a0>\n",
      "args: (<LazyArray(fn=None, shape=(2, 2, 2, 2, 2), backend='numpy')>, (1, 0, 3, 2, 4))\n",
      "kwargs: {}\n",
      "\n",
      "fn: <function reshape at 0x7f5399cea160>\n",
      "args: (<LazyArray(fn=transpose, shape=(2, 2, 2, 2, 2), backend='numpy')>, (4, 2, 4))\n",
      "kwargs: {}\n",
      "\n",
      "fn: <built-in function matmul>\n",
      "args: (<LazyArray(fn=reshape, shape=(4, 2, 2), backend='numpy')>, <LazyArray(fn=reshape, shape=(4, 2, 4), backend='numpy')>)\n",
      "kwargs: {}\n",
      "\n",
      "fn: <function reshape at 0x7f5399cea160>\n",
      "args: (<LazyArray(fn=matmul, shape=(4, 2, 4), backend='numpy')>, (4, 2, 4))\n",
      "kwargs: {}\n",
      "\n",
      "fn: None\n",
      "args: None\n",
      "kwargs: None\n",
      "\n",
      "fn: <function transpose at 0x7f5399cea7a0>\n",
      "args: (<LazyArray(fn=None, shape=(2, 2, 2, 2, 2, 3, 2, 2), backend='numpy')>, (1, 0, 3, 7, 2, 4, 5, 6))\n",
      "kwargs: {}\n",
      "\n",
      "fn: <function reshape at 0x7f5399cea160>\n",
      "args: (<LazyArray(fn=transpose, shape=(2, 2, 2, 2, 2, 2, 3, 2), backend='numpy')>, (4, 4, 24))\n",
      "kwargs: {}\n",
      "\n",
      "fn: <built-in function matmul>\n",
      "args: (<LazyArray(fn=reshape, shape=(4, 2, 4), backend='numpy')>, <LazyArray(fn=reshape, shape=(4, 4, 24), backend='numpy')>)\n",
      "kwargs: {}\n",
      "\n",
      "fn: <function reshape at 0x7f5399cea160>\n",
      "args: (<LazyArray(fn=matmul, shape=(4, 2, 24), backend='numpy')>, (2, 2, 2, 2, 2, 3, 2))\n",
      "kwargs: {}\n",
      "\n",
      "fn: <function transpose at 0x7f5399cea7a0>\n",
      "args: (<LazyArray(fn=reshape, shape=(2, 2, 2, 2, 2, 3, 2), backend='numpy')>, (0, 1, 3, 4, 5, 2, 6))\n",
      "kwargs: {}\n",
      "\n",
      "fn: <function reshape at 0x7f5399cea160>\n",
      "args: (<LazyArray(fn=transpose, shape=(2, 2, 2, 2, 3, 2, 2), backend='numpy')>, (4, 12, 4))\n",
      "kwargs: {}\n",
      "\n",
      "fn: None\n",
      "args: None\n",
      "kwargs: None\n",
      "\n",
      "fn: <function transpose at 0x7f5399cea7a0>\n",
      "args: (<LazyArray(fn=None, shape=(2, 2, 2, 2, 2, 2, 2), backend='numpy')>, (1, 0, 5, 3, 2, 4, 6))\n",
      "kwargs: {}\n",
      "\n",
      "fn: <function reshape at 0x7f5399cea160>\n",
      "args: (<LazyArray(fn=transpose, shape=(2, 2, 2, 2, 2, 2, 2), backend='numpy')>, (4, 4, 8))\n",
      "kwargs: {}\n",
      "\n",
      "fn: <built-in function matmul>\n",
      "args: (<LazyArray(fn=reshape, shape=(4, 12, 4), backend='numpy')>, <LazyArray(fn=reshape, shape=(4, 4, 8), backend='numpy')>)\n",
      "kwargs: {}\n",
      "\n",
      "fn: <function reshape at 0x7f5399cea160>\n",
      "args: (<LazyArray(fn=matmul, shape=(4, 12, 8), backend='numpy')>, (2, 2, 2, 2, 3, 2, 2, 2))\n",
      "kwargs: {}\n",
      "\n",
      "fn: <function transpose at 0x7f5399cea7a0>\n",
      "args: (<LazyArray(fn=reshape, shape=(2, 2, 2, 2, 3, 2, 2, 2), backend='numpy')>, (1, 0, 2, 3, 4, 5, 6, 7))\n",
      "kwargs: {}\n",
      "\n",
      "fn: <function reshape at 0x7f5399cea160>\n",
      "args: (<LazyArray(fn=transpose, shape=(2, 2, 2, 2, 3, 2, 2, 2), backend='numpy')>, (2, 192))\n",
      "kwargs: {}\n",
      "\n",
      "fn: None\n",
      "args: None\n",
      "kwargs: None\n",
      "\n",
      "fn: <function transpose at 0x7f5399cea7a0>\n",
      "args: (<LazyArray(fn=None, shape=(2, 3, 2, 2, 2, 3, 2, 2), backend='numpy')>, (0, 2, 3, 5, 4, 6, 7, 1))\n",
      "kwargs: {}\n",
      "\n",
      "fn: <function reshape at 0x7f5399cea160>\n",
      "args: (<LazyArray(fn=transpose, shape=(2, 2, 2, 3, 2, 2, 2, 3), backend='numpy')>, (192, 3))\n",
      "kwargs: {}\n",
      "\n",
      "fn: <built-in function matmul>\n",
      "args: (<LazyArray(fn=reshape, shape=(2, 192), backend='numpy')>, <LazyArray(fn=reshape, shape=(192, 3), backend='numpy')>)\n",
      "kwargs: {}\n",
      "\n",
      "fn: <function transpose at 0x7f5399cea7a0>\n",
      "args: (<LazyArray(fn=matmul, shape=(2, 3), backend='numpy')>, (1, 0))\n",
      "kwargs: {}\n",
      "\n"
     ]
    }
   ],
   "source": [
    "for node in ar.lazy.ascend(lz):\n",
    "    print(f\"fn: {node.fn}\")\n",
    "    print(f\"args: {node.args}\")\n",
    "    print(f\"kwargs: {node.kwargs}\")\n",
    "    print()"
   ]
  }
 ],
 "metadata": {
  "kernelspec": {
   "display_name": "Python 3",
   "language": "python",
   "name": "python3"
  },
  "language_info": {
   "codemirror_mode": {
    "name": "ipython",
    "version": 3
   },
   "file_extension": ".py",
   "mimetype": "text/x-python",
   "name": "python",
   "nbconvert_exporter": "python",
   "pygments_lexer": "ipython3",
   "version": "3"
  }
 },
 "nbformat": 4,
 "nbformat_minor": 5
}
